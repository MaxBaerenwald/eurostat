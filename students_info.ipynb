{
 "cells": [
  {
   "cell_type": "code",
   "execution_count": 95,
   "metadata": {
    "collapsed": true
   },
   "outputs": [],
   "source": [
    "import numpy\n",
    "import pandas as pd\n",
    "import numpy as np\n",
    "import matplotlib.pyplot as plt\n",
    "import eurostat\n",
    "import seaborn as sns\n",
    "import csv\n",
    "from datetime import datetime"
   ]
  },
  {
   "cell_type": "code",
   "execution_count": 96,
   "outputs": [
    {
     "name": "stdout",
     "output_type": "stream",
     "text": [
      "Index(['ID', 'MatAnon', 'FBAnon', 'Abschluss', 'Studiengang', 'stgsem',\n",
      "       'semester_2_WS_1_SoSe', 'DatumKurzMod_TT_MM_JJJJ', 'PDatumKurzMM_JJJJ',\n",
      "       'Prüfungsbezeichnung_Anon', 'Prüfungsversuch', 'Prüfungsstatus',\n",
      "       'pnote', 'ptermin', 'Prüfungsart', 'status_Erfolg'],\n",
      "      dtype='object')\n"
     ]
    },
    {
     "data": {
      "text/plain": "      MatAnon               FBAnon  Abschluss     Studiengang  stgsem  \\\n37  100141990  FachBereich Violett  Diplom FH  Studiengang 19       1   \n38  100141990  FachBereich Violett  Diplom FH  Studiengang 19       1   \n39  100141990  FachBereich Violett  Diplom FH  Studiengang 19       1   \n40  100141990  FachBereich Violett  Diplom FH  Studiengang 19       1   \n41  100141990  FachBereich Violett  Diplom FH  Studiengang 19       1   \n\n    semester_2_WS_1_SoSe DatumKurzMod_TT_MM_JJJJ  PDatumKurzMM_JJJJ  \\\n37                 19972               1.02.1998             2.1998   \n38                 19972               1.04.1998             4.1998   \n39                 19972               1.04.1998             4.1998   \n40                 19972               1.02.1998             2.1998   \n41                 19972               1.04.1998             4.1998   \n\n   Prüfungsbezeichnung_Anon  Prüfungsversuch   Prüfungsstatus  pnote  ptermin  \\\n37                  311CDMe                1        bestanden  370.0        1   \n38                  301GDMk                2        bestanden  300.0        2   \n39                  110MDMk                2        bestanden  300.0        2   \n40                  110MDMk                1  nicht bestanden  500.0        1   \n41                  210IDMk                2        bestanden  400.0        2   \n\n                  Prüfungsart status_Erfolg  \n37  Prüfungsvorleistung          im Studium  \n38  Prüfungsvorleistung          im Studium  \n39  Prüfungsleistung             im Studium  \n40  Prüfungsleistung             im Studium  \n41  Prüfungsleistung             im Studium  ",
      "text/html": "<div>\n<style scoped>\n    .dataframe tbody tr th:only-of-type {\n        vertical-align: middle;\n    }\n\n    .dataframe tbody tr th {\n        vertical-align: top;\n    }\n\n    .dataframe thead th {\n        text-align: right;\n    }\n</style>\n<table border=\"1\" class=\"dataframe\">\n  <thead>\n    <tr style=\"text-align: right;\">\n      <th></th>\n      <th>MatAnon</th>\n      <th>FBAnon</th>\n      <th>Abschluss</th>\n      <th>Studiengang</th>\n      <th>stgsem</th>\n      <th>semester_2_WS_1_SoSe</th>\n      <th>DatumKurzMod_TT_MM_JJJJ</th>\n      <th>PDatumKurzMM_JJJJ</th>\n      <th>Prüfungsbezeichnung_Anon</th>\n      <th>Prüfungsversuch</th>\n      <th>Prüfungsstatus</th>\n      <th>pnote</th>\n      <th>ptermin</th>\n      <th>Prüfungsart</th>\n      <th>status_Erfolg</th>\n    </tr>\n  </thead>\n  <tbody>\n    <tr>\n      <th>37</th>\n      <td>100141990</td>\n      <td>FachBereich Violett</td>\n      <td>Diplom FH</td>\n      <td>Studiengang 19</td>\n      <td>1</td>\n      <td>19972</td>\n      <td>1.02.1998</td>\n      <td>2.1998</td>\n      <td>311CDMe</td>\n      <td>1</td>\n      <td>bestanden</td>\n      <td>370.0</td>\n      <td>1</td>\n      <td>Prüfungsvorleistung</td>\n      <td>im Studium</td>\n    </tr>\n    <tr>\n      <th>38</th>\n      <td>100141990</td>\n      <td>FachBereich Violett</td>\n      <td>Diplom FH</td>\n      <td>Studiengang 19</td>\n      <td>1</td>\n      <td>19972</td>\n      <td>1.04.1998</td>\n      <td>4.1998</td>\n      <td>301GDMk</td>\n      <td>2</td>\n      <td>bestanden</td>\n      <td>300.0</td>\n      <td>2</td>\n      <td>Prüfungsvorleistung</td>\n      <td>im Studium</td>\n    </tr>\n    <tr>\n      <th>39</th>\n      <td>100141990</td>\n      <td>FachBereich Violett</td>\n      <td>Diplom FH</td>\n      <td>Studiengang 19</td>\n      <td>1</td>\n      <td>19972</td>\n      <td>1.04.1998</td>\n      <td>4.1998</td>\n      <td>110MDMk</td>\n      <td>2</td>\n      <td>bestanden</td>\n      <td>300.0</td>\n      <td>2</td>\n      <td>Prüfungsleistung</td>\n      <td>im Studium</td>\n    </tr>\n    <tr>\n      <th>40</th>\n      <td>100141990</td>\n      <td>FachBereich Violett</td>\n      <td>Diplom FH</td>\n      <td>Studiengang 19</td>\n      <td>1</td>\n      <td>19972</td>\n      <td>1.02.1998</td>\n      <td>2.1998</td>\n      <td>110MDMk</td>\n      <td>1</td>\n      <td>nicht bestanden</td>\n      <td>500.0</td>\n      <td>1</td>\n      <td>Prüfungsleistung</td>\n      <td>im Studium</td>\n    </tr>\n    <tr>\n      <th>41</th>\n      <td>100141990</td>\n      <td>FachBereich Violett</td>\n      <td>Diplom FH</td>\n      <td>Studiengang 19</td>\n      <td>1</td>\n      <td>19972</td>\n      <td>1.04.1998</td>\n      <td>4.1998</td>\n      <td>210IDMk</td>\n      <td>2</td>\n      <td>bestanden</td>\n      <td>400.0</td>\n      <td>2</td>\n      <td>Prüfungsleistung</td>\n      <td>im Studium</td>\n    </tr>\n  </tbody>\n</table>\n</div>"
     },
     "execution_count": 96,
     "metadata": {},
     "output_type": "execute_result"
    }
   ],
   "source": [
    "df = pd.read_csv('students.csv', encoding=\"cp1252\", delimiter=';')\n",
    "print(df.keys())\n",
    "df.drop(['ID'], axis=1, inplace=True)\n",
    "\n",
    "#To select rows whose column value equals a scalar, some_value, use ==\n",
    "filter_student = df.loc[df['Abschluss'] == 'Bachelor']\n",
    "\n",
    "#Combine multiple conditions with &:\n",
    "combine_students = df.loc[(df['Abschluss'] >= 'Bachelor') & (df['FBAnon'] <= 'FachBereich Rot')]\n",
    "\n",
    "#To select rows whose column value does not equal some_value, use !=\n",
    "not_student = df.loc[df['FBAnon'] != 'FachBereich Rot']\n",
    "\n",
    "#All Students from Year <= 2000\n",
    "dates_with_no_one = df.loc[df['DatumKurzMod_TT_MM_JJJJ'] != '1.']\n",
    "times= dates_with_no_one[dates_with_no_one.apply(lambda x: datetime.strptime(x['DatumKurzMod_TT_MM_JJJJ'], '%d.%m.%Y')<= datetime.strptime('01.2000','%m.%Y'), axis=1)]\n",
    "\n",
    "times.head(5)"
   ],
   "metadata": {
    "collapsed": false,
    "pycharm": {
     "name": "#%%\n"
    }
   }
  },
  {
   "cell_type": "code",
   "execution_count": 96,
   "outputs": [],
   "source": [],
   "metadata": {
    "collapsed": false,
    "pycharm": {
     "name": "#%%\n"
    }
   }
  }
 ],
 "metadata": {
  "kernelspec": {
   "display_name": "Python 3",
   "language": "python",
   "name": "python3"
  },
  "language_info": {
   "codemirror_mode": {
    "name": "ipython",
    "version": 2
   },
   "file_extension": ".py",
   "mimetype": "text/x-python",
   "name": "python",
   "nbconvert_exporter": "python",
   "pygments_lexer": "ipython2",
   "version": "2.7.6"
  }
 },
 "nbformat": 4,
 "nbformat_minor": 0
}