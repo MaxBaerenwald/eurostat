{
 "cells": [
  {
   "cell_type": "code",
   "execution_count": 38,
   "metadata": {
    "collapsed": true
   },
   "outputs": [],
   "source": [
    "import numpy\n",
    "import pandas as pd\n",
    "import numpy as np\n",
    "import matplotlib.pyplot as plt\n",
    "import eurostat\n",
    "import seaborn as sns\n",
    "import csv"
   ]
  },
  {
   "cell_type": "code",
   "execution_count": 39,
   "outputs": [
    {
     "name": "stdout",
     "output_type": "stream",
     "text": [
      "Index(['MatAnon', 'FBAnon', 'Abschluss', 'Studiengang', 'stgsem',\n",
      "       'semester_2_WS_1_SoSe', 'DatumKurzMod_TT_MM_JJJJ', 'PDatumKurzMM_JJJJ',\n",
      "       'Prüfungsbezeichnung_Anon', 'Prüfungsversuch', 'Prüfungsstatus',\n",
      "       'pnote', 'ptermin', 'Prüfungsart', 'status_Erfolg'],\n",
      "      dtype='object')\n",
      "           MatAnon            FBAnon  Abschluss     Studiengang  stgsem  \\\n",
      "0       1000110310   FachBereich Rot   Bachelor  Studiengang 16       1   \n",
      "1       1000110310   FachBereich Rot   Bachelor  Studiengang 16       1   \n",
      "2       1000110310   FachBereich Rot   Bachelor  Studiengang 16       1   \n",
      "3       1000110310   FachBereich Rot   Bachelor  Studiengang 16       1   \n",
      "4       1000110310   FachBereich Rot   Bachelor  Studiengang 16       1   \n",
      "...            ...               ...        ...             ...     ...   \n",
      "379438   999396368  FachBereich Gelb  Diplom FH  Studiengang 31      10   \n",
      "379439   999396368  FachBereich Gelb  Diplom FH  Studiengang 31      10   \n",
      "379440   999396368  FachBereich Gelb  Diplom FH  Studiengang 31      10   \n",
      "379441   999396368  FachBereich Gelb  Diplom FH  Studiengang 31      10   \n",
      "379442   999396368  FachBereich Gelb  Diplom FH  Studiengang 31      10   \n",
      "\n",
      "        semester_2_WS_1_SoSe DatumKurzMod_TT_MM_JJJJ  PDatumKurzMM_JJJJ  \\\n",
      "0                      20112               1.01.2012             1.2012   \n",
      "1                      20112               1.02.2012             2.2012   \n",
      "2                      20112               1.03.2012             3.2012   \n",
      "3                      20112               1.02.2012             2.2012   \n",
      "4                      20112               1.03.2012             3.2012   \n",
      "...                      ...                     ...                ...   \n",
      "379438                 20031               1.08.2003             8.2003   \n",
      "379439                 20031               1.08.2003             8.2003   \n",
      "379440                 20031               1.08.2003             8.2003   \n",
      "379441                 20031               1.06.2003             6.2003   \n",
      "379442                 20031               1.08.2003             8.2003   \n",
      "\n",
      "       Prüfungsbezeichnung_Anon  Prüfungsversuch   Prüfungsstatus  pnote  \\\n",
      "0                       610MBII                1  nicht bestanden  500.0   \n",
      "1                       310PBII                1  nicht bestanden  500.0   \n",
      "2                       310PBII                2  nicht bestanden  500.0   \n",
      "3                       720PBIn                1  nicht bestanden    NaN   \n",
      "4                       110IBIk                2  nicht bestanden  500.0   \n",
      "...                         ...              ...              ...    ...   \n",
      "379438                 6100DDWt                1        bestanden  130.0   \n",
      "379439                 6000DDWm                1        bestanden  130.0   \n",
      "379440                 6200KDWm                1        bestanden  130.0   \n",
      "379441                 6300DDWr                1        bestanden    NaN   \n",
      "379442                 9000HDWg                1        bestanden  160.0   \n",
      "\n",
      "        ptermin                Prüfungsart   status_Erfolg  \n",
      "0             1  Prüfungsleistung               im Studium  \n",
      "1             1  Prüfungsleistung               im Studium  \n",
      "2             2  Prüfungsleistung               im Studium  \n",
      "3             1  Studienleistung                im Studium  \n",
      "4             2  Prüfungsleistung               im Studium  \n",
      "...         ...                        ...             ...  \n",
      "379438        1  Diplomarbeit               AbsolventInnen  \n",
      "379439        1  Diplomarbeit               AbsolventInnen  \n",
      "379440        1  Kolloquium                 AbsolventInnen  \n",
      "379441        1  Diplomandenseminar         AbsolventInnen  \n",
      "379442        1  Diplomprüfung              AbsolventInnen  \n",
      "\n",
      "[379443 rows x 15 columns]\n"
     ]
    }
   ],
   "source": [
    "df = pd.read_csv ('students.csv', encoding=\"cp1252\", delimiter=';')\n",
    "df.drop(['ID'], axis=1, inplace=True)\n",
    "#informatik = df.Abschluss['Bachelor']\n",
    "print(df.keys())\n",
    "df.head(5)\n",
    "\n",
    "print(df)"
   ],
   "metadata": {
    "collapsed": false,
    "pycharm": {
     "name": "#%%\n"
    }
   }
  },
  {
   "cell_type": "code",
   "execution_count": 39,
   "outputs": [],
   "source": [],
   "metadata": {
    "collapsed": false,
    "pycharm": {
     "name": "#%%\n"
    }
   }
  }
 ],
 "metadata": {
  "kernelspec": {
   "display_name": "Python 3",
   "language": "python",
   "name": "python3"
  },
  "language_info": {
   "codemirror_mode": {
    "name": "ipython",
    "version": 2
   },
   "file_extension": ".py",
   "mimetype": "text/x-python",
   "name": "python",
   "nbconvert_exporter": "python",
   "pygments_lexer": "ipython2",
   "version": "2.7.6"
  }
 },
 "nbformat": 4,
 "nbformat_minor": 0
}