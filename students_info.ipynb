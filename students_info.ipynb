{
 "cells": [
  {
   "cell_type": "code",
   "execution_count": 83,
   "metadata": {
    "collapsed": true
   },
   "outputs": [],
   "source": [
    "import numpy\n",
    "import pandas as pd\n",
    "import numpy as np\n",
    "import matplotlib.pyplot as plt\n",
    "import eurostat\n",
    "import seaborn as sns\n",
    "import csv\n",
    "from datetime import datetime"
   ]
  },
  {
   "cell_type": "code",
   "execution_count": 84,
   "outputs": [
    {
     "name": "stdout",
     "output_type": "stream",
     "text": [
      "Index(['ID', 'MatAnon', 'FBAnon', 'Abschluss', 'Studiengang', 'stgsem',\n",
      "       'semester_2_WS_1_SoSe', 'DatumKurzMod_TT_MM_JJJJ', 'PDatumKurzMM_JJJJ',\n",
      "       'Prüfungsbezeichnung_Anon', 'Prüfungsversuch', 'Prüfungsstatus',\n",
      "       'pnote', 'ptermin', 'Prüfungsart', 'status_Erfolg'],\n",
      "      dtype='object')\n",
      "           MatAnon            FBAnon  Abschluss     Studiengang  stgsem  \\\n",
      "0       1000110310   FachBereich Rot   Bachelor  Studiengang 16       1   \n",
      "1       1000110310   FachBereich Rot   Bachelor  Studiengang 16       1   \n",
      "2       1000110310   FachBereich Rot   Bachelor  Studiengang 16       1   \n",
      "3       1000110310   FachBereich Rot   Bachelor  Studiengang 16       1   \n",
      "4       1000110310   FachBereich Rot   Bachelor  Studiengang 16       1   \n",
      "...            ...               ...        ...             ...     ...   \n",
      "379438   999396368  FachBereich Gelb  Diplom FH  Studiengang 31      10   \n",
      "379439   999396368  FachBereich Gelb  Diplom FH  Studiengang 31      10   \n",
      "379440   999396368  FachBereich Gelb  Diplom FH  Studiengang 31      10   \n",
      "379441   999396368  FachBereich Gelb  Diplom FH  Studiengang 31      10   \n",
      "379442   999396368  FachBereich Gelb  Diplom FH  Studiengang 31      10   \n",
      "\n",
      "        semester_2_WS_1_SoSe DatumKurzMod_TT_MM_JJJJ  PDatumKurzMM_JJJJ  \\\n",
      "0                      20112               1.01.2012             1.2012   \n",
      "1                      20112               1.02.2012             2.2012   \n",
      "2                      20112               1.03.2012             3.2012   \n",
      "3                      20112               1.02.2012             2.2012   \n",
      "4                      20112               1.03.2012             3.2012   \n",
      "...                      ...                     ...                ...   \n",
      "379438                 20031               1.08.2003             8.2003   \n",
      "379439                 20031               1.08.2003             8.2003   \n",
      "379440                 20031               1.08.2003             8.2003   \n",
      "379441                 20031               1.06.2003             6.2003   \n",
      "379442                 20031               1.08.2003             8.2003   \n",
      "\n",
      "       Prüfungsbezeichnung_Anon  Prüfungsversuch   Prüfungsstatus  pnote  \\\n",
      "0                       610MBII                1  nicht bestanden  500.0   \n",
      "1                       310PBII                1  nicht bestanden  500.0   \n",
      "2                       310PBII                2  nicht bestanden  500.0   \n",
      "3                       720PBIn                1  nicht bestanden    NaN   \n",
      "4                       110IBIk                2  nicht bestanden  500.0   \n",
      "...                         ...              ...              ...    ...   \n",
      "379438                 6100DDWt                1        bestanden  130.0   \n",
      "379439                 6000DDWm                1        bestanden  130.0   \n",
      "379440                 6200KDWm                1        bestanden  130.0   \n",
      "379441                 6300DDWr                1        bestanden    NaN   \n",
      "379442                 9000HDWg                1        bestanden  160.0   \n",
      "\n",
      "        ptermin                Prüfungsart   status_Erfolg  \n",
      "0             1  Prüfungsleistung               im Studium  \n",
      "1             1  Prüfungsleistung               im Studium  \n",
      "2             2  Prüfungsleistung               im Studium  \n",
      "3             1  Studienleistung                im Studium  \n",
      "4             2  Prüfungsleistung               im Studium  \n",
      "...         ...                        ...             ...  \n",
      "379438        1  Diplomarbeit               AbsolventInnen  \n",
      "379439        1  Diplomarbeit               AbsolventInnen  \n",
      "379440        1  Kolloquium                 AbsolventInnen  \n",
      "379441        1  Diplomandenseminar         AbsolventInnen  \n",
      "379442        1  Diplomprüfung              AbsolventInnen  \n",
      "\n",
      "[379443 rows x 15 columns]\n"
     ]
    },
    {
     "ename": "ValueError",
     "evalue": "time data '1.' does not match format '%d.%m.%Y'",
     "output_type": "error",
     "traceback": [
      "\u001B[1;31m---------------------------------------------------------------------------\u001B[0m",
      "\u001B[1;31mValueError\u001B[0m                                Traceback (most recent call last)",
      "Input \u001B[1;32mIn [84]\u001B[0m, in \u001B[0;36m<cell line: 17>\u001B[1;34m()\u001B[0m\n\u001B[0;32m     15\u001B[0m \u001B[38;5;28mprint\u001B[39m(df)\n\u001B[0;32m     16\u001B[0m \u001B[38;5;66;03m#times= df[df.apply(lambda x: print(x['MatAnon']))]\u001B[39;00m\n\u001B[1;32m---> 17\u001B[0m times\u001B[38;5;241m=\u001B[39m df[\u001B[43mdf\u001B[49m\u001B[38;5;241;43m.\u001B[39;49m\u001B[43mapply\u001B[49m\u001B[43m(\u001B[49m\u001B[38;5;28;43;01mlambda\u001B[39;49;00m\u001B[43m \u001B[49m\u001B[43mx\u001B[49m\u001B[43m:\u001B[49m\u001B[43m \u001B[49m\u001B[43mdatetime\u001B[49m\u001B[38;5;241;43m.\u001B[39;49m\u001B[43mstrptime\u001B[49m\u001B[43m(\u001B[49m\u001B[43mx\u001B[49m\u001B[43m[\u001B[49m\u001B[38;5;124;43m'\u001B[39;49m\u001B[38;5;124;43mDatumKurzMod_TT_MM_JJJJ\u001B[39;49m\u001B[38;5;124;43m'\u001B[39;49m\u001B[43m]\u001B[49m\u001B[43m,\u001B[49m\u001B[43m \u001B[49m\u001B[38;5;124;43m'\u001B[39;49m\u001B[38;5;132;43;01m%d\u001B[39;49;00m\u001B[38;5;124;43m.\u001B[39;49m\u001B[38;5;124;43m%\u001B[39;49m\u001B[38;5;124;43mm.\u001B[39;49m\u001B[38;5;124;43m%\u001B[39;49m\u001B[38;5;124;43mY\u001B[39;49m\u001B[38;5;124;43m'\u001B[39;49m\u001B[43m)\u001B[49m\u001B[38;5;241;43m>\u001B[39;49m\u001B[38;5;241;43m=\u001B[39;49m\u001B[43m \u001B[49m\u001B[43mdatetime\u001B[49m\u001B[38;5;241;43m.\u001B[39;49m\u001B[43mstrptime\u001B[49m\u001B[43m(\u001B[49m\u001B[38;5;124;43m'\u001B[39;49m\u001B[38;5;124;43m01.2000\u001B[39;49m\u001B[38;5;124;43m'\u001B[39;49m\u001B[43m,\u001B[49m\u001B[38;5;124;43m'\u001B[39;49m\u001B[38;5;124;43m%\u001B[39;49m\u001B[38;5;124;43mm.\u001B[39;49m\u001B[38;5;124;43m%\u001B[39;49m\u001B[38;5;124;43mY\u001B[39;49m\u001B[38;5;124;43m'\u001B[39;49m\u001B[43m)\u001B[49m\u001B[43m,\u001B[49m\u001B[43m \u001B[49m\u001B[43maxis\u001B[49m\u001B[38;5;241;43m=\u001B[39;49m\u001B[38;5;241;43m1\u001B[39;49m\u001B[43m)\u001B[49m]\n\u001B[0;32m     18\u001B[0m \u001B[38;5;66;03m#time_student = df.loc[datetime.strptime(df['DatumKurzMod_TT_MM_JJJJ'], '%m.%Y') >= datetime.strptime('01.2000','%m.%Y')]\u001B[39;00m\n\u001B[0;32m     20\u001B[0m times\u001B[38;5;241m.\u001B[39mhead(\u001B[38;5;241m5\u001B[39m)\n",
      "File \u001B[1;32m~\\miniconda3\\lib\\site-packages\\pandas\\core\\frame.py:8833\u001B[0m, in \u001B[0;36mDataFrame.apply\u001B[1;34m(self, func, axis, raw, result_type, args, **kwargs)\u001B[0m\n\u001B[0;32m   8822\u001B[0m \u001B[38;5;28;01mfrom\u001B[39;00m \u001B[38;5;21;01mpandas\u001B[39;00m\u001B[38;5;21;01m.\u001B[39;00m\u001B[38;5;21;01mcore\u001B[39;00m\u001B[38;5;21;01m.\u001B[39;00m\u001B[38;5;21;01mapply\u001B[39;00m \u001B[38;5;28;01mimport\u001B[39;00m frame_apply\n\u001B[0;32m   8824\u001B[0m op \u001B[38;5;241m=\u001B[39m frame_apply(\n\u001B[0;32m   8825\u001B[0m     \u001B[38;5;28mself\u001B[39m,\n\u001B[0;32m   8826\u001B[0m     func\u001B[38;5;241m=\u001B[39mfunc,\n\u001B[1;32m   (...)\u001B[0m\n\u001B[0;32m   8831\u001B[0m     kwargs\u001B[38;5;241m=\u001B[39mkwargs,\n\u001B[0;32m   8832\u001B[0m )\n\u001B[1;32m-> 8833\u001B[0m \u001B[38;5;28;01mreturn\u001B[39;00m \u001B[43mop\u001B[49m\u001B[38;5;241;43m.\u001B[39;49m\u001B[43mapply\u001B[49m\u001B[43m(\u001B[49m\u001B[43m)\u001B[49m\u001B[38;5;241m.\u001B[39m__finalize__(\u001B[38;5;28mself\u001B[39m, method\u001B[38;5;241m=\u001B[39m\u001B[38;5;124m\"\u001B[39m\u001B[38;5;124mapply\u001B[39m\u001B[38;5;124m\"\u001B[39m)\n",
      "File \u001B[1;32m~\\miniconda3\\lib\\site-packages\\pandas\\core\\apply.py:727\u001B[0m, in \u001B[0;36mFrameApply.apply\u001B[1;34m(self)\u001B[0m\n\u001B[0;32m    724\u001B[0m \u001B[38;5;28;01melif\u001B[39;00m \u001B[38;5;28mself\u001B[39m\u001B[38;5;241m.\u001B[39mraw:\n\u001B[0;32m    725\u001B[0m     \u001B[38;5;28;01mreturn\u001B[39;00m \u001B[38;5;28mself\u001B[39m\u001B[38;5;241m.\u001B[39mapply_raw()\n\u001B[1;32m--> 727\u001B[0m \u001B[38;5;28;01mreturn\u001B[39;00m \u001B[38;5;28;43mself\u001B[39;49m\u001B[38;5;241;43m.\u001B[39;49m\u001B[43mapply_standard\u001B[49m\u001B[43m(\u001B[49m\u001B[43m)\u001B[49m\n",
      "File \u001B[1;32m~\\miniconda3\\lib\\site-packages\\pandas\\core\\apply.py:851\u001B[0m, in \u001B[0;36mFrameApply.apply_standard\u001B[1;34m(self)\u001B[0m\n\u001B[0;32m    850\u001B[0m \u001B[38;5;28;01mdef\u001B[39;00m \u001B[38;5;21mapply_standard\u001B[39m(\u001B[38;5;28mself\u001B[39m):\n\u001B[1;32m--> 851\u001B[0m     results, res_index \u001B[38;5;241m=\u001B[39m \u001B[38;5;28;43mself\u001B[39;49m\u001B[38;5;241;43m.\u001B[39;49m\u001B[43mapply_series_generator\u001B[49m\u001B[43m(\u001B[49m\u001B[43m)\u001B[49m\n\u001B[0;32m    853\u001B[0m     \u001B[38;5;66;03m# wrap results\u001B[39;00m\n\u001B[0;32m    854\u001B[0m     \u001B[38;5;28;01mreturn\u001B[39;00m \u001B[38;5;28mself\u001B[39m\u001B[38;5;241m.\u001B[39mwrap_results(results, res_index)\n",
      "File \u001B[1;32m~\\miniconda3\\lib\\site-packages\\pandas\\core\\apply.py:867\u001B[0m, in \u001B[0;36mFrameApply.apply_series_generator\u001B[1;34m(self)\u001B[0m\n\u001B[0;32m    864\u001B[0m \u001B[38;5;28;01mwith\u001B[39;00m option_context(\u001B[38;5;124m\"\u001B[39m\u001B[38;5;124mmode.chained_assignment\u001B[39m\u001B[38;5;124m\"\u001B[39m, \u001B[38;5;28;01mNone\u001B[39;00m):\n\u001B[0;32m    865\u001B[0m     \u001B[38;5;28;01mfor\u001B[39;00m i, v \u001B[38;5;129;01min\u001B[39;00m \u001B[38;5;28menumerate\u001B[39m(series_gen):\n\u001B[0;32m    866\u001B[0m         \u001B[38;5;66;03m# ignore SettingWithCopy here in case the user mutates\u001B[39;00m\n\u001B[1;32m--> 867\u001B[0m         results[i] \u001B[38;5;241m=\u001B[39m \u001B[38;5;28;43mself\u001B[39;49m\u001B[38;5;241;43m.\u001B[39;49m\u001B[43mf\u001B[49m\u001B[43m(\u001B[49m\u001B[43mv\u001B[49m\u001B[43m)\u001B[49m\n\u001B[0;32m    868\u001B[0m         \u001B[38;5;28;01mif\u001B[39;00m \u001B[38;5;28misinstance\u001B[39m(results[i], ABCSeries):\n\u001B[0;32m    869\u001B[0m             \u001B[38;5;66;03m# If we have a view on v, we need to make a copy because\u001B[39;00m\n\u001B[0;32m    870\u001B[0m             \u001B[38;5;66;03m#  series_generator will swap out the underlying data\u001B[39;00m\n\u001B[0;32m    871\u001B[0m             results[i] \u001B[38;5;241m=\u001B[39m results[i]\u001B[38;5;241m.\u001B[39mcopy(deep\u001B[38;5;241m=\u001B[39m\u001B[38;5;28;01mFalse\u001B[39;00m)\n",
      "Input \u001B[1;32mIn [84]\u001B[0m, in \u001B[0;36m<lambda>\u001B[1;34m(x)\u001B[0m\n\u001B[0;32m     15\u001B[0m \u001B[38;5;28mprint\u001B[39m(df)\n\u001B[0;32m     16\u001B[0m \u001B[38;5;66;03m#times= df[df.apply(lambda x: print(x['MatAnon']))]\u001B[39;00m\n\u001B[1;32m---> 17\u001B[0m times\u001B[38;5;241m=\u001B[39m df[df\u001B[38;5;241m.\u001B[39mapply(\u001B[38;5;28;01mlambda\u001B[39;00m x: \u001B[43mdatetime\u001B[49m\u001B[38;5;241;43m.\u001B[39;49m\u001B[43mstrptime\u001B[49m\u001B[43m(\u001B[49m\u001B[43mx\u001B[49m\u001B[43m[\u001B[49m\u001B[38;5;124;43m'\u001B[39;49m\u001B[38;5;124;43mDatumKurzMod_TT_MM_JJJJ\u001B[39;49m\u001B[38;5;124;43m'\u001B[39;49m\u001B[43m]\u001B[49m\u001B[43m,\u001B[49m\u001B[43m \u001B[49m\u001B[38;5;124;43m'\u001B[39;49m\u001B[38;5;132;43;01m%d\u001B[39;49;00m\u001B[38;5;124;43m.\u001B[39;49m\u001B[38;5;124;43m%\u001B[39;49m\u001B[38;5;124;43mm.\u001B[39;49m\u001B[38;5;124;43m%\u001B[39;49m\u001B[38;5;124;43mY\u001B[39;49m\u001B[38;5;124;43m'\u001B[39;49m\u001B[43m)\u001B[49m\u001B[38;5;241m>\u001B[39m\u001B[38;5;241m=\u001B[39m datetime\u001B[38;5;241m.\u001B[39mstrptime(\u001B[38;5;124m'\u001B[39m\u001B[38;5;124m01.2000\u001B[39m\u001B[38;5;124m'\u001B[39m,\u001B[38;5;124m'\u001B[39m\u001B[38;5;124m%\u001B[39m\u001B[38;5;124mm.\u001B[39m\u001B[38;5;124m%\u001B[39m\u001B[38;5;124mY\u001B[39m\u001B[38;5;124m'\u001B[39m), axis\u001B[38;5;241m=\u001B[39m\u001B[38;5;241m1\u001B[39m)]\n\u001B[0;32m     18\u001B[0m \u001B[38;5;66;03m#time_student = df.loc[datetime.strptime(df['DatumKurzMod_TT_MM_JJJJ'], '%m.%Y') >= datetime.strptime('01.2000','%m.%Y')]\u001B[39;00m\n\u001B[0;32m     20\u001B[0m times\u001B[38;5;241m.\u001B[39mhead(\u001B[38;5;241m5\u001B[39m)\n",
      "File \u001B[1;32m~\\miniconda3\\lib\\_strptime.py:568\u001B[0m, in \u001B[0;36m_strptime_datetime\u001B[1;34m(cls, data_string, format)\u001B[0m\n\u001B[0;32m    565\u001B[0m \u001B[38;5;28;01mdef\u001B[39;00m \u001B[38;5;21m_strptime_datetime\u001B[39m(\u001B[38;5;28mcls\u001B[39m, data_string, \u001B[38;5;28mformat\u001B[39m\u001B[38;5;241m=\u001B[39m\u001B[38;5;124m\"\u001B[39m\u001B[38;5;132;01m%a\u001B[39;00m\u001B[38;5;124m \u001B[39m\u001B[38;5;124m%\u001B[39m\u001B[38;5;124mb \u001B[39m\u001B[38;5;132;01m%d\u001B[39;00m\u001B[38;5;124m \u001B[39m\u001B[38;5;124m%\u001B[39m\u001B[38;5;124mH:\u001B[39m\u001B[38;5;124m%\u001B[39m\u001B[38;5;124mM:\u001B[39m\u001B[38;5;124m%\u001B[39m\u001B[38;5;124mS \u001B[39m\u001B[38;5;124m%\u001B[39m\u001B[38;5;124mY\u001B[39m\u001B[38;5;124m\"\u001B[39m):\n\u001B[0;32m    566\u001B[0m     \u001B[38;5;124;03m\"\"\"Return a class cls instance based on the input string and the\u001B[39;00m\n\u001B[0;32m    567\u001B[0m \u001B[38;5;124;03m    format string.\"\"\"\u001B[39;00m\n\u001B[1;32m--> 568\u001B[0m     tt, fraction, gmtoff_fraction \u001B[38;5;241m=\u001B[39m \u001B[43m_strptime\u001B[49m\u001B[43m(\u001B[49m\u001B[43mdata_string\u001B[49m\u001B[43m,\u001B[49m\u001B[43m \u001B[49m\u001B[38;5;28;43mformat\u001B[39;49m\u001B[43m)\u001B[49m\n\u001B[0;32m    569\u001B[0m     tzname, gmtoff \u001B[38;5;241m=\u001B[39m tt[\u001B[38;5;241m-\u001B[39m\u001B[38;5;241m2\u001B[39m:]\n\u001B[0;32m    570\u001B[0m     args \u001B[38;5;241m=\u001B[39m tt[:\u001B[38;5;241m6\u001B[39m] \u001B[38;5;241m+\u001B[39m (fraction,)\n",
      "File \u001B[1;32m~\\miniconda3\\lib\\_strptime.py:349\u001B[0m, in \u001B[0;36m_strptime\u001B[1;34m(data_string, format)\u001B[0m\n\u001B[0;32m    347\u001B[0m found \u001B[38;5;241m=\u001B[39m format_regex\u001B[38;5;241m.\u001B[39mmatch(data_string)\n\u001B[0;32m    348\u001B[0m \u001B[38;5;28;01mif\u001B[39;00m \u001B[38;5;129;01mnot\u001B[39;00m found:\n\u001B[1;32m--> 349\u001B[0m     \u001B[38;5;28;01mraise\u001B[39;00m \u001B[38;5;167;01mValueError\u001B[39;00m(\u001B[38;5;124m\"\u001B[39m\u001B[38;5;124mtime data \u001B[39m\u001B[38;5;132;01m%r\u001B[39;00m\u001B[38;5;124m does not match format \u001B[39m\u001B[38;5;132;01m%r\u001B[39;00m\u001B[38;5;124m\"\u001B[39m \u001B[38;5;241m%\u001B[39m\n\u001B[0;32m    350\u001B[0m                      (data_string, \u001B[38;5;28mformat\u001B[39m))\n\u001B[0;32m    351\u001B[0m \u001B[38;5;28;01mif\u001B[39;00m \u001B[38;5;28mlen\u001B[39m(data_string) \u001B[38;5;241m!=\u001B[39m found\u001B[38;5;241m.\u001B[39mend():\n\u001B[0;32m    352\u001B[0m     \u001B[38;5;28;01mraise\u001B[39;00m \u001B[38;5;167;01mValueError\u001B[39;00m(\u001B[38;5;124m\"\u001B[39m\u001B[38;5;124munconverted data remains: \u001B[39m\u001B[38;5;132;01m%s\u001B[39;00m\u001B[38;5;124m\"\u001B[39m \u001B[38;5;241m%\u001B[39m\n\u001B[0;32m    353\u001B[0m                       data_string[found\u001B[38;5;241m.\u001B[39mend():])\n",
      "\u001B[1;31mValueError\u001B[0m: time data '1.' does not match format '%d.%m.%Y'"
     ]
    }
   ],
   "source": [
    "df = pd.read_csv('students.csv', encoding=\"cp1252\", delimiter=';')\n",
    "print(df.keys())\n",
    "df.drop(['ID'], axis=1, inplace=True)\n",
    "\n",
    "#To select rows whose column value equals a scalar, some_value, use ==\n",
    "filter_student = df.loc[df['Abschluss'] == 'Bachelor']\n",
    "\n",
    "#Combine multiple conditions with &:\n",
    "combine_students = df.loc[(df['Abschluss'] >= 'Bachelor') & (df['FBAnon'] <= 'FachBereich Rot')]\n",
    "\n",
    "#To select rows whose column value does not equal some_value, use !=\n",
    "not_student = df.loc[df['FBAnon'] != 'FachBereich Rot']\n",
    "\n",
    "#All Students from last 10 Years\n",
    "times= df[df.apply(lambda x: datetime.strptime(x['DatumKurzMod_TT_MM_JJJJ'], '%d.%m.%Y')>= datetime.strptime('01.2000','%m.%Y'), axis=1)]\n",
    "\n",
    "times.head(5)"
   ],
   "metadata": {
    "collapsed": false,
    "pycharm": {
     "name": "#%%\n"
    }
   }
  },
  {
   "cell_type": "code",
   "execution_count": null,
   "outputs": [],
   "source": [],
   "metadata": {
    "collapsed": false,
    "pycharm": {
     "name": "#%%\n"
    }
   }
  }
 ],
 "metadata": {
  "kernelspec": {
   "display_name": "Python 3",
   "language": "python",
   "name": "python3"
  },
  "language_info": {
   "codemirror_mode": {
    "name": "ipython",
    "version": 2
   },
   "file_extension": ".py",
   "mimetype": "text/x-python",
   "name": "python",
   "nbconvert_exporter": "python",
   "pygments_lexer": "ipython2",
   "version": "2.7.6"
  }
 },
 "nbformat": 4,
 "nbformat_minor": 0
}