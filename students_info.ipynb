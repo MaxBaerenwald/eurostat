{
 "cells": [
  {
   "cell_type": "code",
   "execution_count": 66,
   "metadata": {
    "collapsed": true
   },
   "outputs": [],
   "source": [
    "import numpy\n",
    "import pandas as pd\n",
    "import numpy as np\n",
    "import matplotlib.pyplot as plt\n",
    "import eurostat\n",
    "import seaborn as sns\n",
    "import csv\n",
    "from datetime import datetime"
   ]
  },
  {
   "cell_type": "code",
   "execution_count": 67,
   "outputs": [
    {
     "data": {
      "text/plain": "          MatAnon            FBAnon Abschluss     Studiengang  stgsem  \\\n269    1005994293  FachBereich Gelb  Bachelor  Studiengang 31       3   \n270    1005994293  FachBereich Gelb  Bachelor  Studiengang 31       3   \n271    1005994293  FachBereich Gelb  Bachelor  Studiengang 31       3   \n272    1005994293  FachBereich Gelb  Bachelor  Studiengang 31       3   \n273    1005994293  FachBereich Gelb  Bachelor  Studiengang 31       3   \n...           ...               ...       ...             ...     ...   \n11677  1220052586  FachBereich Gelb  Bachelor   Studiengang 6       1   \n11678  1220052586  FachBereich Gelb  Bachelor   Studiengang 6       1   \n11679  1220052586  FachBereich Gelb  Bachelor   Studiengang 6       1   \n11680  1220052586  FachBereich Gelb  Bachelor   Studiengang 6       1   \n11681  1220052586  FachBereich Gelb  Bachelor   Studiengang 6       1   \n\n       semester_2_WS_1_SoSe DatumKurzMod_TT_MM_JJJJ  PDatumKurzMM_JJJJ  \\\n269                   20132               1.01.2014             1.2014   \n270                   20132               1.01.2014             1.2014   \n271                   20132               1.02.2014             2.2014   \n272                   20132               1.01.2014             1.2014   \n273                   20132               1.01.2014             1.2014   \n...                     ...                     ...                ...   \n11677                 20102               1.01.2011             1.2011   \n11678                 20102               1.02.2011             2.2011   \n11679                 20102               1.02.2011             2.2011   \n11680                 20102               1.02.2011             2.2011   \n11681                 20102               1.02.2011             2.2011   \n\n      Prüfungsbezeichnung_Anon  Prüfungsversuch             Prüfungsstatus  \\\n269                    620DBWg                1            nicht bestanden   \n270                    820BBWe                1            nicht bestanden   \n271                    810UBWe                1            nicht bestanden   \n272                    210ABWn                3  endgültig nicht bestanden   \n273                    430PBWn                1            nicht bestanden   \n...                        ...              ...                        ...   \n11677                 1200WBBh                1            nicht bestanden   \n11678                  920eBBn                1            nicht bestanden   \n11679                  457WBBl                1            nicht bestanden   \n11680                  456WBBl                1            nicht bestanden   \n11681                  310MBBe                1            nicht bestanden   \n\n       pnote  ptermin                Prüfungsart   status_Erfolg  \n269    500.0        1  Prüfungsleistung           AbbrecherInnen  \n270    500.0        1  Prüfungsleistung           AbbrecherInnen  \n271    500.0        1  Prüfungsleistung           AbbrecherInnen  \n272    500.0        1  Prüfungsleistung           AbbrecherInnen  \n273    500.0        1  Prüfungsleistung           AbbrecherInnen  \n...      ...      ...                        ...             ...  \n11677  500.0        1  Prüfungsleistung           AbbrecherInnen  \n11678  500.0        1  Prüfungsleistung           AbbrecherInnen  \n11679  500.0        1  Prüfungsleistung           AbbrecherInnen  \n11680  500.0        1  Prüfungsleistung           AbbrecherInnen  \n11681  500.0        1  Prüfungsleistung           AbbrecherInnen  \n\n[100 rows x 15 columns]",
      "text/html": "<div>\n<style scoped>\n    .dataframe tbody tr th:only-of-type {\n        vertical-align: middle;\n    }\n\n    .dataframe tbody tr th {\n        vertical-align: top;\n    }\n\n    .dataframe thead th {\n        text-align: right;\n    }\n</style>\n<table border=\"1\" class=\"dataframe\">\n  <thead>\n    <tr style=\"text-align: right;\">\n      <th></th>\n      <th>MatAnon</th>\n      <th>FBAnon</th>\n      <th>Abschluss</th>\n      <th>Studiengang</th>\n      <th>stgsem</th>\n      <th>semester_2_WS_1_SoSe</th>\n      <th>DatumKurzMod_TT_MM_JJJJ</th>\n      <th>PDatumKurzMM_JJJJ</th>\n      <th>Prüfungsbezeichnung_Anon</th>\n      <th>Prüfungsversuch</th>\n      <th>Prüfungsstatus</th>\n      <th>pnote</th>\n      <th>ptermin</th>\n      <th>Prüfungsart</th>\n      <th>status_Erfolg</th>\n    </tr>\n  </thead>\n  <tbody>\n    <tr>\n      <th>269</th>\n      <td>1005994293</td>\n      <td>FachBereich Gelb</td>\n      <td>Bachelor</td>\n      <td>Studiengang 31</td>\n      <td>3</td>\n      <td>20132</td>\n      <td>1.01.2014</td>\n      <td>1.2014</td>\n      <td>620DBWg</td>\n      <td>1</td>\n      <td>nicht bestanden</td>\n      <td>500.0</td>\n      <td>1</td>\n      <td>Prüfungsleistung</td>\n      <td>AbbrecherInnen</td>\n    </tr>\n    <tr>\n      <th>270</th>\n      <td>1005994293</td>\n      <td>FachBereich Gelb</td>\n      <td>Bachelor</td>\n      <td>Studiengang 31</td>\n      <td>3</td>\n      <td>20132</td>\n      <td>1.01.2014</td>\n      <td>1.2014</td>\n      <td>820BBWe</td>\n      <td>1</td>\n      <td>nicht bestanden</td>\n      <td>500.0</td>\n      <td>1</td>\n      <td>Prüfungsleistung</td>\n      <td>AbbrecherInnen</td>\n    </tr>\n    <tr>\n      <th>271</th>\n      <td>1005994293</td>\n      <td>FachBereich Gelb</td>\n      <td>Bachelor</td>\n      <td>Studiengang 31</td>\n      <td>3</td>\n      <td>20132</td>\n      <td>1.02.2014</td>\n      <td>2.2014</td>\n      <td>810UBWe</td>\n      <td>1</td>\n      <td>nicht bestanden</td>\n      <td>500.0</td>\n      <td>1</td>\n      <td>Prüfungsleistung</td>\n      <td>AbbrecherInnen</td>\n    </tr>\n    <tr>\n      <th>272</th>\n      <td>1005994293</td>\n      <td>FachBereich Gelb</td>\n      <td>Bachelor</td>\n      <td>Studiengang 31</td>\n      <td>3</td>\n      <td>20132</td>\n      <td>1.01.2014</td>\n      <td>1.2014</td>\n      <td>210ABWn</td>\n      <td>3</td>\n      <td>endgültig nicht bestanden</td>\n      <td>500.0</td>\n      <td>1</td>\n      <td>Prüfungsleistung</td>\n      <td>AbbrecherInnen</td>\n    </tr>\n    <tr>\n      <th>273</th>\n      <td>1005994293</td>\n      <td>FachBereich Gelb</td>\n      <td>Bachelor</td>\n      <td>Studiengang 31</td>\n      <td>3</td>\n      <td>20132</td>\n      <td>1.01.2014</td>\n      <td>1.2014</td>\n      <td>430PBWn</td>\n      <td>1</td>\n      <td>nicht bestanden</td>\n      <td>500.0</td>\n      <td>1</td>\n      <td>Prüfungsleistung</td>\n      <td>AbbrecherInnen</td>\n    </tr>\n    <tr>\n      <th>...</th>\n      <td>...</td>\n      <td>...</td>\n      <td>...</td>\n      <td>...</td>\n      <td>...</td>\n      <td>...</td>\n      <td>...</td>\n      <td>...</td>\n      <td>...</td>\n      <td>...</td>\n      <td>...</td>\n      <td>...</td>\n      <td>...</td>\n      <td>...</td>\n      <td>...</td>\n    </tr>\n    <tr>\n      <th>11677</th>\n      <td>1220052586</td>\n      <td>FachBereich Gelb</td>\n      <td>Bachelor</td>\n      <td>Studiengang 6</td>\n      <td>1</td>\n      <td>20102</td>\n      <td>1.01.2011</td>\n      <td>1.2011</td>\n      <td>1200WBBh</td>\n      <td>1</td>\n      <td>nicht bestanden</td>\n      <td>500.0</td>\n      <td>1</td>\n      <td>Prüfungsleistung</td>\n      <td>AbbrecherInnen</td>\n    </tr>\n    <tr>\n      <th>11678</th>\n      <td>1220052586</td>\n      <td>FachBereich Gelb</td>\n      <td>Bachelor</td>\n      <td>Studiengang 6</td>\n      <td>1</td>\n      <td>20102</td>\n      <td>1.02.2011</td>\n      <td>2.2011</td>\n      <td>920eBBn</td>\n      <td>1</td>\n      <td>nicht bestanden</td>\n      <td>500.0</td>\n      <td>1</td>\n      <td>Prüfungsleistung</td>\n      <td>AbbrecherInnen</td>\n    </tr>\n    <tr>\n      <th>11679</th>\n      <td>1220052586</td>\n      <td>FachBereich Gelb</td>\n      <td>Bachelor</td>\n      <td>Studiengang 6</td>\n      <td>1</td>\n      <td>20102</td>\n      <td>1.02.2011</td>\n      <td>2.2011</td>\n      <td>457WBBl</td>\n      <td>1</td>\n      <td>nicht bestanden</td>\n      <td>500.0</td>\n      <td>1</td>\n      <td>Prüfungsleistung</td>\n      <td>AbbrecherInnen</td>\n    </tr>\n    <tr>\n      <th>11680</th>\n      <td>1220052586</td>\n      <td>FachBereich Gelb</td>\n      <td>Bachelor</td>\n      <td>Studiengang 6</td>\n      <td>1</td>\n      <td>20102</td>\n      <td>1.02.2011</td>\n      <td>2.2011</td>\n      <td>456WBBl</td>\n      <td>1</td>\n      <td>nicht bestanden</td>\n      <td>500.0</td>\n      <td>1</td>\n      <td>Prüfungsleistung</td>\n      <td>AbbrecherInnen</td>\n    </tr>\n    <tr>\n      <th>11681</th>\n      <td>1220052586</td>\n      <td>FachBereich Gelb</td>\n      <td>Bachelor</td>\n      <td>Studiengang 6</td>\n      <td>1</td>\n      <td>20102</td>\n      <td>1.02.2011</td>\n      <td>2.2011</td>\n      <td>310MBBe</td>\n      <td>1</td>\n      <td>nicht bestanden</td>\n      <td>500.0</td>\n      <td>1</td>\n      <td>Prüfungsleistung</td>\n      <td>AbbrecherInnen</td>\n    </tr>\n  </tbody>\n</table>\n<p>100 rows × 15 columns</p>\n</div>"
     },
     "execution_count": 67,
     "metadata": {},
     "output_type": "execute_result"
    }
   ],
   "source": [
    "# Import data\n",
    "df = pd.read_csv('students.csv', encoding=\"cp1252\", delimiter=';')\n",
    "\n",
    "# Remove redundant IDs\n",
    "df.drop(['ID'], axis=1, inplace=True)\n",
    "\n",
    "# Remove malformed dates\n",
    "df = df.loc[df['DatumKurzMod_TT_MM_JJJJ'] != '1.']\n",
    "\n",
    "# To select rows whose column value does not equal some_value, use !=\n",
    "df = df.loc[df['FBAnon'] == 'FachBereich Gelb']\n",
    "\n",
    "# To select rows whose column value equals a scalar, some_value, use ==\n",
    "df = df.loc[df['Abschluss'] == 'Bachelor']\n",
    "\n",
    "# Combine multiple conditions with &:\n",
    "#combine_students = df.loc[(df['Abschluss'] >= 'Bachelor') & (df['FBAnon'] <= 'FachBereich Rot')]\n",
    "\n",
    "# All Students from Year <= 2000\n",
    "df = df[df.apply(\n",
    "    lambda x: datetime.strptime(x['DatumKurzMod_TT_MM_JJJJ'], '%d.%m.%Y') >= datetime.strptime('01.2000', '%m.%Y'),\n",
    "    axis=1)]\n",
    "\n",
    "# Only show dropouts\n",
    "df = df.loc[df['status_Erfolg'] == 'AbbrecherInnen']\n",
    "\n",
    "# Show results\n",
    "df.head(100)"
   ],
   "metadata": {
    "collapsed": false,
    "pycharm": {
     "name": "#%%\n"
    }
   }
  },
  {
   "cell_type": "code",
   "execution_count": 68,
   "outputs": [
    {
     "data": {
      "text/plain": "210ABWn     114\n310GBWL     114\n510GBWk     112\n110SBWe     112\n410GBWk     103\n610DBWg      38\n531PBWn      26\n320MBBn      21\n1200WBBh     14\n920eBBn      14\n1010WBBk     14\n310MBBe      13\n1020WBBk     13\n110GBBs      11\n457WBBl      10\n1110RBBs      9\n620DBWg       8\n910iBBn       7\n320RBWg       7\n520GBWn       7\n420EBWk       7\n456WBBl       7\n120GBWg       7\n220OBWf       6\n120OBBg       5\n330IBBn       4\n210CBBg       4\n820SBBn       4\n810UBWe       3\n820BBWe       3\n130FBBn       3\n140HBBr       3\n710MBWn       2\n455KBBl       2\n454KBBl       2\n220SBBn       2\n452KBBz       1\n451WBBn       1\n620SBBk       1\n472PBBe       1\n551SBBt       1\n6100BBWt      1\n622ABBs       1\n730PBWb       1\n810MBBn       1\n4000BBWt      1\n610WBBk       1\n430PBWn       1\n612ABBe       1\n631IBBk       1\n630SBWn       1\n130IBWt       1\n632IBBk       1\nName: Prüfungsbezeichnung_Anon, dtype: int64"
     },
     "execution_count": 68,
     "metadata": {},
     "output_type": "execute_result"
    }
   ],
   "source": [
    "# Limit to killer exams\n",
    "df = df.loc[df['Prüfungsstatus'] == 'endgültig nicht bestanden']\n",
    "\n",
    "# Count exams\n",
    "df['Prüfungsbezeichnung_Anon'].value_counts()"
   ],
   "metadata": {
    "collapsed": false,
    "pycharm": {
     "name": "#%%\n"
    }
   }
  },
  {
   "cell_type": "code",
   "execution_count": 69,
   "outputs": [
    {
     "data": {
      "text/plain": "           MatAnon            FBAnon Abschluss     Studiengang  stgsem  \\\n274     1005994293  FachBereich Gelb  Bachelor  Studiengang 31       3   \n3547    1084308818  FachBereich Gelb  Bachelor  Studiengang 31       3   \n8101    1174314527  FachBereich Gelb  Bachelor  Studiengang 31       3   \n13292   1250348496  FachBereich Gelb  Bachelor  Studiengang 31       3   \n14170   1270759752  FachBereich Gelb  Bachelor  Studiengang 31       3   \n...            ...               ...       ...             ...     ...   \n370023  8860258561  FachBereich Gelb  Bachelor  Studiengang 31       3   \n372785  8924075911  FachBereich Gelb  Bachelor  Studiengang 31       3   \n373172  8933803557  FachBereich Gelb  Bachelor  Studiengang 31       3   \n373740  8948086085  FachBereich Gelb  Bachelor  Studiengang 31       3   \n373817  8949513289  FachBereich Gelb  Bachelor  Studiengang 31       3   \n\n        semester_2_WS_1_SoSe DatumKurzMod_TT_MM_JJJJ  PDatumKurzMM_JJJJ  \\\n274                    20132               1.01.2014             1.2014   \n3547                   20132               1.01.2014             1.2014   \n8101                   20122               1.02.2013             2.2013   \n13292                  20072               1.02.2008             2.2008   \n14170                  20122               1.02.2013             2.2013   \n...                      ...                     ...                ...   \n370023                 20122               1.02.2013             2.2013   \n372785                 20122               1.02.2013             2.2013   \n373172                 20122               1.02.2013             2.2013   \n373740                 20082               1.02.2009             2.2009   \n373817                 20092               1.01.2010             1.2010   \n\n       Prüfungsbezeichnung_Anon  Prüfungsversuch             Prüfungsstatus  \\\n274                     410GBWk                3  endgültig nicht bestanden   \n3547                    410GBWk                3  endgültig nicht bestanden   \n8101                    410GBWk                3  endgültig nicht bestanden   \n13292                   410GBWk                3  endgültig nicht bestanden   \n14170                   410GBWk                3  endgültig nicht bestanden   \n...                         ...              ...                        ...   \n370023                  410GBWk                3  endgültig nicht bestanden   \n372785                  410GBWk                3  endgültig nicht bestanden   \n373172                  410GBWk                3  endgültig nicht bestanden   \n373740                  410GBWk                3  endgültig nicht bestanden   \n373817                  410GBWk                3  endgültig nicht bestanden   \n\n        pnote  ptermin                Prüfungsart   status_Erfolg  \n274     500.0        1  Prüfungsleistung           AbbrecherInnen  \n3547    500.0        1  Prüfungsleistung           AbbrecherInnen  \n8101    500.0        1  Prüfungsleistung           AbbrecherInnen  \n13292   500.0        1  Prüfungsleistung           AbbrecherInnen  \n14170   500.0        1  Prüfungsleistung           AbbrecherInnen  \n...       ...      ...                        ...             ...  \n370023  500.0        1  Prüfungsleistung           AbbrecherInnen  \n372785  500.0        1  Prüfungsleistung           AbbrecherInnen  \n373172  500.0        1  Prüfungsleistung           AbbrecherInnen  \n373740  500.0        1  Prüfungsleistung           AbbrecherInnen  \n373817  500.0        1  Prüfungsleistung           AbbrecherInnen  \n\n[103 rows x 15 columns]",
      "text/html": "<div>\n<style scoped>\n    .dataframe tbody tr th:only-of-type {\n        vertical-align: middle;\n    }\n\n    .dataframe tbody tr th {\n        vertical-align: top;\n    }\n\n    .dataframe thead th {\n        text-align: right;\n    }\n</style>\n<table border=\"1\" class=\"dataframe\">\n  <thead>\n    <tr style=\"text-align: right;\">\n      <th></th>\n      <th>MatAnon</th>\n      <th>FBAnon</th>\n      <th>Abschluss</th>\n      <th>Studiengang</th>\n      <th>stgsem</th>\n      <th>semester_2_WS_1_SoSe</th>\n      <th>DatumKurzMod_TT_MM_JJJJ</th>\n      <th>PDatumKurzMM_JJJJ</th>\n      <th>Prüfungsbezeichnung_Anon</th>\n      <th>Prüfungsversuch</th>\n      <th>Prüfungsstatus</th>\n      <th>pnote</th>\n      <th>ptermin</th>\n      <th>Prüfungsart</th>\n      <th>status_Erfolg</th>\n    </tr>\n  </thead>\n  <tbody>\n    <tr>\n      <th>274</th>\n      <td>1005994293</td>\n      <td>FachBereich Gelb</td>\n      <td>Bachelor</td>\n      <td>Studiengang 31</td>\n      <td>3</td>\n      <td>20132</td>\n      <td>1.01.2014</td>\n      <td>1.2014</td>\n      <td>410GBWk</td>\n      <td>3</td>\n      <td>endgültig nicht bestanden</td>\n      <td>500.0</td>\n      <td>1</td>\n      <td>Prüfungsleistung</td>\n      <td>AbbrecherInnen</td>\n    </tr>\n    <tr>\n      <th>3547</th>\n      <td>1084308818</td>\n      <td>FachBereich Gelb</td>\n      <td>Bachelor</td>\n      <td>Studiengang 31</td>\n      <td>3</td>\n      <td>20132</td>\n      <td>1.01.2014</td>\n      <td>1.2014</td>\n      <td>410GBWk</td>\n      <td>3</td>\n      <td>endgültig nicht bestanden</td>\n      <td>500.0</td>\n      <td>1</td>\n      <td>Prüfungsleistung</td>\n      <td>AbbrecherInnen</td>\n    </tr>\n    <tr>\n      <th>8101</th>\n      <td>1174314527</td>\n      <td>FachBereich Gelb</td>\n      <td>Bachelor</td>\n      <td>Studiengang 31</td>\n      <td>3</td>\n      <td>20122</td>\n      <td>1.02.2013</td>\n      <td>2.2013</td>\n      <td>410GBWk</td>\n      <td>3</td>\n      <td>endgültig nicht bestanden</td>\n      <td>500.0</td>\n      <td>1</td>\n      <td>Prüfungsleistung</td>\n      <td>AbbrecherInnen</td>\n    </tr>\n    <tr>\n      <th>13292</th>\n      <td>1250348496</td>\n      <td>FachBereich Gelb</td>\n      <td>Bachelor</td>\n      <td>Studiengang 31</td>\n      <td>3</td>\n      <td>20072</td>\n      <td>1.02.2008</td>\n      <td>2.2008</td>\n      <td>410GBWk</td>\n      <td>3</td>\n      <td>endgültig nicht bestanden</td>\n      <td>500.0</td>\n      <td>1</td>\n      <td>Prüfungsleistung</td>\n      <td>AbbrecherInnen</td>\n    </tr>\n    <tr>\n      <th>14170</th>\n      <td>1270759752</td>\n      <td>FachBereich Gelb</td>\n      <td>Bachelor</td>\n      <td>Studiengang 31</td>\n      <td>3</td>\n      <td>20122</td>\n      <td>1.02.2013</td>\n      <td>2.2013</td>\n      <td>410GBWk</td>\n      <td>3</td>\n      <td>endgültig nicht bestanden</td>\n      <td>500.0</td>\n      <td>1</td>\n      <td>Prüfungsleistung</td>\n      <td>AbbrecherInnen</td>\n    </tr>\n    <tr>\n      <th>...</th>\n      <td>...</td>\n      <td>...</td>\n      <td>...</td>\n      <td>...</td>\n      <td>...</td>\n      <td>...</td>\n      <td>...</td>\n      <td>...</td>\n      <td>...</td>\n      <td>...</td>\n      <td>...</td>\n      <td>...</td>\n      <td>...</td>\n      <td>...</td>\n      <td>...</td>\n    </tr>\n    <tr>\n      <th>370023</th>\n      <td>8860258561</td>\n      <td>FachBereich Gelb</td>\n      <td>Bachelor</td>\n      <td>Studiengang 31</td>\n      <td>3</td>\n      <td>20122</td>\n      <td>1.02.2013</td>\n      <td>2.2013</td>\n      <td>410GBWk</td>\n      <td>3</td>\n      <td>endgültig nicht bestanden</td>\n      <td>500.0</td>\n      <td>1</td>\n      <td>Prüfungsleistung</td>\n      <td>AbbrecherInnen</td>\n    </tr>\n    <tr>\n      <th>372785</th>\n      <td>8924075911</td>\n      <td>FachBereich Gelb</td>\n      <td>Bachelor</td>\n      <td>Studiengang 31</td>\n      <td>3</td>\n      <td>20122</td>\n      <td>1.02.2013</td>\n      <td>2.2013</td>\n      <td>410GBWk</td>\n      <td>3</td>\n      <td>endgültig nicht bestanden</td>\n      <td>500.0</td>\n      <td>1</td>\n      <td>Prüfungsleistung</td>\n      <td>AbbrecherInnen</td>\n    </tr>\n    <tr>\n      <th>373172</th>\n      <td>8933803557</td>\n      <td>FachBereich Gelb</td>\n      <td>Bachelor</td>\n      <td>Studiengang 31</td>\n      <td>3</td>\n      <td>20122</td>\n      <td>1.02.2013</td>\n      <td>2.2013</td>\n      <td>410GBWk</td>\n      <td>3</td>\n      <td>endgültig nicht bestanden</td>\n      <td>500.0</td>\n      <td>1</td>\n      <td>Prüfungsleistung</td>\n      <td>AbbrecherInnen</td>\n    </tr>\n    <tr>\n      <th>373740</th>\n      <td>8948086085</td>\n      <td>FachBereich Gelb</td>\n      <td>Bachelor</td>\n      <td>Studiengang 31</td>\n      <td>3</td>\n      <td>20082</td>\n      <td>1.02.2009</td>\n      <td>2.2009</td>\n      <td>410GBWk</td>\n      <td>3</td>\n      <td>endgültig nicht bestanden</td>\n      <td>500.0</td>\n      <td>1</td>\n      <td>Prüfungsleistung</td>\n      <td>AbbrecherInnen</td>\n    </tr>\n    <tr>\n      <th>373817</th>\n      <td>8949513289</td>\n      <td>FachBereich Gelb</td>\n      <td>Bachelor</td>\n      <td>Studiengang 31</td>\n      <td>3</td>\n      <td>20092</td>\n      <td>1.01.2010</td>\n      <td>1.2010</td>\n      <td>410GBWk</td>\n      <td>3</td>\n      <td>endgültig nicht bestanden</td>\n      <td>500.0</td>\n      <td>1</td>\n      <td>Prüfungsleistung</td>\n      <td>AbbrecherInnen</td>\n    </tr>\n  </tbody>\n</table>\n<p>103 rows × 15 columns</p>\n</div>"
     },
     "execution_count": 69,
     "metadata": {},
     "output_type": "execute_result"
    }
   ],
   "source": [
    "# Only show one specific exam\n",
    "df = df.loc[df['Prüfungsbezeichnung_Anon'] == '410GBWk']\n",
    "\n",
    "# Show results\n",
    "df.head(250)"
   ],
   "metadata": {
    "collapsed": false,
    "pycharm": {
     "name": "#%%\n"
    }
   }
  },
  {
   "cell_type": "code",
   "execution_count": 69,
   "outputs": [],
   "source": [],
   "metadata": {
    "collapsed": false,
    "pycharm": {
     "name": "#%%\n"
    }
   }
  }
 ],
 "metadata": {
  "kernelspec": {
   "display_name": "Python 3",
   "language": "python",
   "name": "python3"
  },
  "language_info": {
   "codemirror_mode": {
    "name": "ipython",
    "version": 2
   },
   "file_extension": ".py",
   "mimetype": "text/x-python",
   "name": "python",
   "nbconvert_exporter": "python",
   "pygments_lexer": "ipython2",
   "version": "2.7.6"
  }
 },
 "nbformat": 4,
 "nbformat_minor": 0
}