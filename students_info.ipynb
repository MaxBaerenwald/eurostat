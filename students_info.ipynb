{
 "cells": [
  {
   "cell_type": "code",
   "execution_count": 63,
   "metadata": {
    "collapsed": true
   },
   "outputs": [],
   "source": [
    "import numpy\n",
    "import pandas as pd\n",
    "import numpy as np\n",
    "import matplotlib.pyplot as plt\n",
    "import eurostat\n",
    "import seaborn as sns\n",
    "import csv\n",
    "from datetime import datetime"
   ]
  },
  {
   "cell_type": "code",
   "execution_count": 64,
   "outputs": [
    {
     "name": "stdout",
     "output_type": "stream",
     "text": [
      "Index(['ID', 'MatAnon', 'FBAnon', 'Abschluss', 'Studiengang', 'stgsem',\n",
      "       'semester_2_WS_1_SoSe', 'DatumKurzMod_TT_MM_JJJJ', 'PDatumKurzMM_JJJJ',\n",
      "       'Prüfungsbezeichnung_Anon', 'Prüfungsversuch', 'Prüfungsstatus',\n",
      "       'pnote', 'ptermin', 'Prüfungsart', 'status_Erfolg'],\n",
      "      dtype='object')\n"
     ]
    },
    {
     "data": {
      "text/plain": "      MatAnon           FBAnon Abschluss     Studiengang  stgsem  \\\n0  1000110310  FachBereich Rot  Bachelor  Studiengang 16       1   \n1  1000110310  FachBereich Rot  Bachelor  Studiengang 16       1   \n2  1000110310  FachBereich Rot  Bachelor  Studiengang 16       1   \n3  1000110310  FachBereich Rot  Bachelor  Studiengang 16       1   \n4  1000110310  FachBereich Rot  Bachelor  Studiengang 16       1   \n\n   semester_2_WS_1_SoSe DatumKurzMod_TT_MM_JJJJ  PDatumKurzMM_JJJJ  \\\n0                 20112               1.01.2012             1.2012   \n1                 20112               1.02.2012             2.2012   \n2                 20112               1.03.2012             3.2012   \n3                 20112               1.02.2012             2.2012   \n4                 20112               1.03.2012             3.2012   \n\n  Prüfungsbezeichnung_Anon  Prüfungsversuch   Prüfungsstatus  pnote  ptermin  \\\n0                  610MBII                1  nicht bestanden  500.0        1   \n1                  310PBII                1  nicht bestanden  500.0        1   \n2                  310PBII                2  nicht bestanden  500.0        2   \n3                  720PBIn                1  nicht bestanden    NaN        1   \n4                  110IBIk                2  nicht bestanden  500.0        2   \n\n                 Prüfungsart status_Erfolg  \n0  Prüfungsleistung             im Studium  \n1  Prüfungsleistung             im Studium  \n2  Prüfungsleistung             im Studium  \n3  Studienleistung              im Studium  \n4  Prüfungsleistung             im Studium  ",
      "text/html": "<div>\n<style scoped>\n    .dataframe tbody tr th:only-of-type {\n        vertical-align: middle;\n    }\n\n    .dataframe tbody tr th {\n        vertical-align: top;\n    }\n\n    .dataframe thead th {\n        text-align: right;\n    }\n</style>\n<table border=\"1\" class=\"dataframe\">\n  <thead>\n    <tr style=\"text-align: right;\">\n      <th></th>\n      <th>MatAnon</th>\n      <th>FBAnon</th>\n      <th>Abschluss</th>\n      <th>Studiengang</th>\n      <th>stgsem</th>\n      <th>semester_2_WS_1_SoSe</th>\n      <th>DatumKurzMod_TT_MM_JJJJ</th>\n      <th>PDatumKurzMM_JJJJ</th>\n      <th>Prüfungsbezeichnung_Anon</th>\n      <th>Prüfungsversuch</th>\n      <th>Prüfungsstatus</th>\n      <th>pnote</th>\n      <th>ptermin</th>\n      <th>Prüfungsart</th>\n      <th>status_Erfolg</th>\n    </tr>\n  </thead>\n  <tbody>\n    <tr>\n      <th>0</th>\n      <td>1000110310</td>\n      <td>FachBereich Rot</td>\n      <td>Bachelor</td>\n      <td>Studiengang 16</td>\n      <td>1</td>\n      <td>20112</td>\n      <td>1.01.2012</td>\n      <td>1.2012</td>\n      <td>610MBII</td>\n      <td>1</td>\n      <td>nicht bestanden</td>\n      <td>500.0</td>\n      <td>1</td>\n      <td>Prüfungsleistung</td>\n      <td>im Studium</td>\n    </tr>\n    <tr>\n      <th>1</th>\n      <td>1000110310</td>\n      <td>FachBereich Rot</td>\n      <td>Bachelor</td>\n      <td>Studiengang 16</td>\n      <td>1</td>\n      <td>20112</td>\n      <td>1.02.2012</td>\n      <td>2.2012</td>\n      <td>310PBII</td>\n      <td>1</td>\n      <td>nicht bestanden</td>\n      <td>500.0</td>\n      <td>1</td>\n      <td>Prüfungsleistung</td>\n      <td>im Studium</td>\n    </tr>\n    <tr>\n      <th>2</th>\n      <td>1000110310</td>\n      <td>FachBereich Rot</td>\n      <td>Bachelor</td>\n      <td>Studiengang 16</td>\n      <td>1</td>\n      <td>20112</td>\n      <td>1.03.2012</td>\n      <td>3.2012</td>\n      <td>310PBII</td>\n      <td>2</td>\n      <td>nicht bestanden</td>\n      <td>500.0</td>\n      <td>2</td>\n      <td>Prüfungsleistung</td>\n      <td>im Studium</td>\n    </tr>\n    <tr>\n      <th>3</th>\n      <td>1000110310</td>\n      <td>FachBereich Rot</td>\n      <td>Bachelor</td>\n      <td>Studiengang 16</td>\n      <td>1</td>\n      <td>20112</td>\n      <td>1.02.2012</td>\n      <td>2.2012</td>\n      <td>720PBIn</td>\n      <td>1</td>\n      <td>nicht bestanden</td>\n      <td>NaN</td>\n      <td>1</td>\n      <td>Studienleistung</td>\n      <td>im Studium</td>\n    </tr>\n    <tr>\n      <th>4</th>\n      <td>1000110310</td>\n      <td>FachBereich Rot</td>\n      <td>Bachelor</td>\n      <td>Studiengang 16</td>\n      <td>1</td>\n      <td>20112</td>\n      <td>1.03.2012</td>\n      <td>3.2012</td>\n      <td>110IBIk</td>\n      <td>2</td>\n      <td>nicht bestanden</td>\n      <td>500.0</td>\n      <td>2</td>\n      <td>Prüfungsleistung</td>\n      <td>im Studium</td>\n    </tr>\n  </tbody>\n</table>\n</div>"
     },
     "execution_count": 64,
     "metadata": {},
     "output_type": "execute_result"
    }
   ],
   "source": [
    "df = pd.read_csv('students.csv', encoding=\"cp1252\", delimiter=';')\n",
    "print(df.keys())\n",
    "df.drop(['ID'], axis=1, inplace=True)\n",
    "\n",
    "#To select rows whose column value equals a scalar, some_value, use ==\n",
    "filter_student = df.loc[df['Abschluss'] == 'Bachelor']\n",
    "\n",
    "#Combine multiple conditions with &:\n",
    "combine_students = df.loc[(df['Abschluss'] >= 'Bachelor') & (df['FBAnon'] <= 'FachBereich Rot')]\n",
    "\n",
    "#To select rows whose column value does not equal some_value, use !=\n",
    "not_student = df.loc[df['FBAnon'] != 'FachBereich Rot']\n",
    "\n",
    "#All Students from last 10 Years\n",
    "#time_student = df.loc[datetime.strptime(df['DatumKurzMod_TT_MM_JJJJ'], '%m.%Y') >= datetime.strptime('01.2000','%m.%Y')]\n",
    "\n",
    "combine_students.head(5)"
   ],
   "metadata": {
    "collapsed": false,
    "pycharm": {
     "name": "#%%\n"
    }
   }
  },
  {
   "cell_type": "code",
   "execution_count": 64,
   "outputs": [],
   "source": [],
   "metadata": {
    "collapsed": false,
    "pycharm": {
     "name": "#%%\n"
    }
   }
  }
 ],
 "metadata": {
  "kernelspec": {
   "display_name": "Python 3",
   "language": "python",
   "name": "python3"
  },
  "language_info": {
   "codemirror_mode": {
    "name": "ipython",
    "version": 2
   },
   "file_extension": ".py",
   "mimetype": "text/x-python",
   "name": "python",
   "nbconvert_exporter": "python",
   "pygments_lexer": "ipython2",
   "version": "2.7.6"
  }
 },
 "nbformat": 4,
 "nbformat_minor": 0
}