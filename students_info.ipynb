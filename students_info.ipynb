{
 "cells": [
  {
   "cell_type": "code",
   "execution_count": 38,
   "metadata": {
    "collapsed": true
   },
   "outputs": [],
   "source": [
    "import numpy\n",
    "import pandas as pd\n",
    "import numpy as np\n",
    "import matplotlib.pyplot as plt\n",
    "import eurostat\n",
    "import seaborn as sns\n",
    "import csv\n",
    "from datetime import datetime"
   ]
  },
  {
   "cell_type": "code",
   "execution_count": 39,
   "outputs": [
    {
     "data": {
      "text/plain": "          MatAnon            FBAnon Abschluss     Studiengang  stgsem  \\\n269    1005994293  FachBereich Gelb  Bachelor  Studiengang 31       3   \n270    1005994293  FachBereich Gelb  Bachelor  Studiengang 31       3   \n271    1005994293  FachBereich Gelb  Bachelor  Studiengang 31       3   \n272    1005994293  FachBereich Gelb  Bachelor  Studiengang 31       3   \n273    1005994293  FachBereich Gelb  Bachelor  Studiengang 31       3   \n...           ...               ...       ...             ...     ...   \n11677  1220052586  FachBereich Gelb  Bachelor   Studiengang 6       1   \n11678  1220052586  FachBereich Gelb  Bachelor   Studiengang 6       1   \n11679  1220052586  FachBereich Gelb  Bachelor   Studiengang 6       1   \n11680  1220052586  FachBereich Gelb  Bachelor   Studiengang 6       1   \n11681  1220052586  FachBereich Gelb  Bachelor   Studiengang 6       1   \n\n       semester_2_WS_1_SoSe DatumKurzMod_TT_MM_JJJJ  PDatumKurzMM_JJJJ  \\\n269                   20132               1.01.2014             1.2014   \n270                   20132               1.01.2014             1.2014   \n271                   20132               1.02.2014             2.2014   \n272                   20132               1.01.2014             1.2014   \n273                   20132               1.01.2014             1.2014   \n...                     ...                     ...                ...   \n11677                 20102               1.01.2011             1.2011   \n11678                 20102               1.02.2011             2.2011   \n11679                 20102               1.02.2011             2.2011   \n11680                 20102               1.02.2011             2.2011   \n11681                 20102               1.02.2011             2.2011   \n\n      Prüfungsbezeichnung_Anon  Prüfungsversuch             Prüfungsstatus  \\\n269                    620DBWg                1            nicht bestanden   \n270                    820BBWe                1            nicht bestanden   \n271                    810UBWe                1            nicht bestanden   \n272                    210ABWn                3  endgültig nicht bestanden   \n273                    430PBWn                1            nicht bestanden   \n...                        ...              ...                        ...   \n11677                 1200WBBh                1            nicht bestanden   \n11678                  920eBBn                1            nicht bestanden   \n11679                  457WBBl                1            nicht bestanden   \n11680                  456WBBl                1            nicht bestanden   \n11681                  310MBBe                1            nicht bestanden   \n\n       pnote  ptermin                Prüfungsart   status_Erfolg  \n269    500.0        1  Prüfungsleistung           AbbrecherInnen  \n270    500.0        1  Prüfungsleistung           AbbrecherInnen  \n271    500.0        1  Prüfungsleistung           AbbrecherInnen  \n272    500.0        1  Prüfungsleistung           AbbrecherInnen  \n273    500.0        1  Prüfungsleistung           AbbrecherInnen  \n...      ...      ...                        ...             ...  \n11677  500.0        1  Prüfungsleistung           AbbrecherInnen  \n11678  500.0        1  Prüfungsleistung           AbbrecherInnen  \n11679  500.0        1  Prüfungsleistung           AbbrecherInnen  \n11680  500.0        1  Prüfungsleistung           AbbrecherInnen  \n11681  500.0        1  Prüfungsleistung           AbbrecherInnen  \n\n[100 rows x 15 columns]",
      "text/html": "<div>\n<style scoped>\n    .dataframe tbody tr th:only-of-type {\n        vertical-align: middle;\n    }\n\n    .dataframe tbody tr th {\n        vertical-align: top;\n    }\n\n    .dataframe thead th {\n        text-align: right;\n    }\n</style>\n<table border=\"1\" class=\"dataframe\">\n  <thead>\n    <tr style=\"text-align: right;\">\n      <th></th>\n      <th>MatAnon</th>\n      <th>FBAnon</th>\n      <th>Abschluss</th>\n      <th>Studiengang</th>\n      <th>stgsem</th>\n      <th>semester_2_WS_1_SoSe</th>\n      <th>DatumKurzMod_TT_MM_JJJJ</th>\n      <th>PDatumKurzMM_JJJJ</th>\n      <th>Prüfungsbezeichnung_Anon</th>\n      <th>Prüfungsversuch</th>\n      <th>Prüfungsstatus</th>\n      <th>pnote</th>\n      <th>ptermin</th>\n      <th>Prüfungsart</th>\n      <th>status_Erfolg</th>\n    </tr>\n  </thead>\n  <tbody>\n    <tr>\n      <th>269</th>\n      <td>1005994293</td>\n      <td>FachBereich Gelb</td>\n      <td>Bachelor</td>\n      <td>Studiengang 31</td>\n      <td>3</td>\n      <td>20132</td>\n      <td>1.01.2014</td>\n      <td>1.2014</td>\n      <td>620DBWg</td>\n      <td>1</td>\n      <td>nicht bestanden</td>\n      <td>500.0</td>\n      <td>1</td>\n      <td>Prüfungsleistung</td>\n      <td>AbbrecherInnen</td>\n    </tr>\n    <tr>\n      <th>270</th>\n      <td>1005994293</td>\n      <td>FachBereich Gelb</td>\n      <td>Bachelor</td>\n      <td>Studiengang 31</td>\n      <td>3</td>\n      <td>20132</td>\n      <td>1.01.2014</td>\n      <td>1.2014</td>\n      <td>820BBWe</td>\n      <td>1</td>\n      <td>nicht bestanden</td>\n      <td>500.0</td>\n      <td>1</td>\n      <td>Prüfungsleistung</td>\n      <td>AbbrecherInnen</td>\n    </tr>\n    <tr>\n      <th>271</th>\n      <td>1005994293</td>\n      <td>FachBereich Gelb</td>\n      <td>Bachelor</td>\n      <td>Studiengang 31</td>\n      <td>3</td>\n      <td>20132</td>\n      <td>1.02.2014</td>\n      <td>2.2014</td>\n      <td>810UBWe</td>\n      <td>1</td>\n      <td>nicht bestanden</td>\n      <td>500.0</td>\n      <td>1</td>\n      <td>Prüfungsleistung</td>\n      <td>AbbrecherInnen</td>\n    </tr>\n    <tr>\n      <th>272</th>\n      <td>1005994293</td>\n      <td>FachBereich Gelb</td>\n      <td>Bachelor</td>\n      <td>Studiengang 31</td>\n      <td>3</td>\n      <td>20132</td>\n      <td>1.01.2014</td>\n      <td>1.2014</td>\n      <td>210ABWn</td>\n      <td>3</td>\n      <td>endgültig nicht bestanden</td>\n      <td>500.0</td>\n      <td>1</td>\n      <td>Prüfungsleistung</td>\n      <td>AbbrecherInnen</td>\n    </tr>\n    <tr>\n      <th>273</th>\n      <td>1005994293</td>\n      <td>FachBereich Gelb</td>\n      <td>Bachelor</td>\n      <td>Studiengang 31</td>\n      <td>3</td>\n      <td>20132</td>\n      <td>1.01.2014</td>\n      <td>1.2014</td>\n      <td>430PBWn</td>\n      <td>1</td>\n      <td>nicht bestanden</td>\n      <td>500.0</td>\n      <td>1</td>\n      <td>Prüfungsleistung</td>\n      <td>AbbrecherInnen</td>\n    </tr>\n    <tr>\n      <th>...</th>\n      <td>...</td>\n      <td>...</td>\n      <td>...</td>\n      <td>...</td>\n      <td>...</td>\n      <td>...</td>\n      <td>...</td>\n      <td>...</td>\n      <td>...</td>\n      <td>...</td>\n      <td>...</td>\n      <td>...</td>\n      <td>...</td>\n      <td>...</td>\n      <td>...</td>\n    </tr>\n    <tr>\n      <th>11677</th>\n      <td>1220052586</td>\n      <td>FachBereich Gelb</td>\n      <td>Bachelor</td>\n      <td>Studiengang 6</td>\n      <td>1</td>\n      <td>20102</td>\n      <td>1.01.2011</td>\n      <td>1.2011</td>\n      <td>1200WBBh</td>\n      <td>1</td>\n      <td>nicht bestanden</td>\n      <td>500.0</td>\n      <td>1</td>\n      <td>Prüfungsleistung</td>\n      <td>AbbrecherInnen</td>\n    </tr>\n    <tr>\n      <th>11678</th>\n      <td>1220052586</td>\n      <td>FachBereich Gelb</td>\n      <td>Bachelor</td>\n      <td>Studiengang 6</td>\n      <td>1</td>\n      <td>20102</td>\n      <td>1.02.2011</td>\n      <td>2.2011</td>\n      <td>920eBBn</td>\n      <td>1</td>\n      <td>nicht bestanden</td>\n      <td>500.0</td>\n      <td>1</td>\n      <td>Prüfungsleistung</td>\n      <td>AbbrecherInnen</td>\n    </tr>\n    <tr>\n      <th>11679</th>\n      <td>1220052586</td>\n      <td>FachBereich Gelb</td>\n      <td>Bachelor</td>\n      <td>Studiengang 6</td>\n      <td>1</td>\n      <td>20102</td>\n      <td>1.02.2011</td>\n      <td>2.2011</td>\n      <td>457WBBl</td>\n      <td>1</td>\n      <td>nicht bestanden</td>\n      <td>500.0</td>\n      <td>1</td>\n      <td>Prüfungsleistung</td>\n      <td>AbbrecherInnen</td>\n    </tr>\n    <tr>\n      <th>11680</th>\n      <td>1220052586</td>\n      <td>FachBereich Gelb</td>\n      <td>Bachelor</td>\n      <td>Studiengang 6</td>\n      <td>1</td>\n      <td>20102</td>\n      <td>1.02.2011</td>\n      <td>2.2011</td>\n      <td>456WBBl</td>\n      <td>1</td>\n      <td>nicht bestanden</td>\n      <td>500.0</td>\n      <td>1</td>\n      <td>Prüfungsleistung</td>\n      <td>AbbrecherInnen</td>\n    </tr>\n    <tr>\n      <th>11681</th>\n      <td>1220052586</td>\n      <td>FachBereich Gelb</td>\n      <td>Bachelor</td>\n      <td>Studiengang 6</td>\n      <td>1</td>\n      <td>20102</td>\n      <td>1.02.2011</td>\n      <td>2.2011</td>\n      <td>310MBBe</td>\n      <td>1</td>\n      <td>nicht bestanden</td>\n      <td>500.0</td>\n      <td>1</td>\n      <td>Prüfungsleistung</td>\n      <td>AbbrecherInnen</td>\n    </tr>\n  </tbody>\n</table>\n<p>100 rows × 15 columns</p>\n</div>"
     },
     "execution_count": 39,
     "metadata": {},
     "output_type": "execute_result"
    }
   ],
   "source": [
    "df = pd.read_csv('students.csv', encoding=\"cp1252\", delimiter=';')\n",
    "# print(df.keys())\n",
    "df.drop(['ID'], axis=1, inplace=True)\n",
    "\n",
    "# Remove malformed dates\n",
    "df = df.loc[df['DatumKurzMod_TT_MM_JJJJ'] != '1.']\n",
    "\n",
    "# To select rows whose column value does not equal some_value, use !=\n",
    "df = df.loc[df['FBAnon'] == 'FachBereich Gelb']\n",
    "\n",
    "# To select rows whose column value equals a scalar, some_value, use ==\n",
    "df = df.loc[df['Abschluss'] == 'Bachelor']\n",
    "\n",
    "# Combine multiple conditions with &:\n",
    "#combine_students = df.loc[(df['Abschluss'] >= 'Bachelor') & (df['FBAnon'] <= 'FachBereich Rot')]\n",
    "\n",
    "# All Students from Year <= 2000\n",
    "df = df[df.apply(\n",
    "    lambda x: datetime.strptime(x['DatumKurzMod_TT_MM_JJJJ'], '%d.%m.%Y') >= datetime.strptime('01.2000', '%m.%Y'),\n",
    "    axis=1)]\n",
    "\n",
    "# Only show dropouts\n",
    "df = df.loc[df['status_Erfolg'] == 'AbbrecherInnen']\n",
    "\n",
    "df.head(100)"
   ],
   "metadata": {
    "collapsed": false,
    "pycharm": {
     "name": "#%%\n"
    }
   }
  },
  {
   "cell_type": "code",
   "execution_count": 39,
   "outputs": [],
   "source": [],
   "metadata": {
    "collapsed": false,
    "pycharm": {
     "name": "#%%\n"
    }
   }
  }
 ],
 "metadata": {
  "kernelspec": {
   "display_name": "Python 3",
   "language": "python",
   "name": "python3"
  },
  "language_info": {
   "codemirror_mode": {
    "name": "ipython",
    "version": 2
   },
   "file_extension": ".py",
   "mimetype": "text/x-python",
   "name": "python",
   "nbconvert_exporter": "python",
   "pygments_lexer": "ipython2",
   "version": "2.7.6"
  }
 },
 "nbformat": 4,
 "nbformat_minor": 0
}