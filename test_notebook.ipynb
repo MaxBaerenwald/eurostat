{
 "cells": [
  {
   "cell_type": "code",
   "execution_count": 58,
   "outputs": [],
   "source": [
    "import numpy\n",
    "import pandas as pd\n",
    "import numpy as np\n",
    "import matplotlib.pyplot as plt\n",
    "import eurostat\n",
    "import seaborn as sns\n"
   ],
   "metadata": {
    "collapsed": false,
    "pycharm": {
     "name": "#%%\n"
    }
   }
  },
  {
   "cell_type": "markdown",
   "source": [],
   "metadata": {
    "collapsed": false
   }
  },
  {
   "cell_type": "code",
   "execution_count": 59,
   "outputs": [
    {
     "data": {
      "text/plain": "  geo\\time  2022M03  2022M02  2022M01  2021M12  2021M11  2021M10  2021M09  \\\n0       AL    -24.9    -15.6    -15.4    -17.2    -18.8    -19.4    -10.4   \n1       AT    -22.0     -7.3     -8.6    -10.5     -6.8     -2.8     -3.1   \n2       BE    -21.8     -9.9     -9.4    -11.3    -10.1     -7.6     -1.2   \n3       BG    -29.7    -20.6    -19.2    -21.3    -25.7    -24.9    -20.6   \n4       CY    -32.7    -19.2    -18.1    -21.8    -20.4    -19.6    -16.0   \n\n   2021M08  2021M07  ...  1980M10  1980M09  1980M08  1980M07  1980M06  \\\n0    -13.0    -12.9  ...      NaN      NaN      NaN      NaN      NaN   \n1     -0.3      0.2  ...      NaN      NaN      NaN      NaN      NaN   \n2     -1.7      2.9  ...      NaN      NaN      NaN      NaN      NaN   \n3    -19.1    -16.5  ...      NaN      NaN      NaN      NaN      NaN   \n4    -20.5    -23.5  ...      NaN      NaN      NaN      NaN      NaN   \n\n   1980M05  1980M04  1980M03  1980M02  1980M01  \n0      NaN      NaN      NaN      NaN      NaN  \n1      NaN      NaN      NaN      NaN      NaN  \n2      NaN      NaN      NaN      NaN      NaN  \n3      NaN      NaN      NaN      NaN      NaN  \n4      NaN      NaN      NaN      NaN      NaN  \n\n[5 rows x 508 columns]",
      "text/html": "<div>\n<style scoped>\n    .dataframe tbody tr th:only-of-type {\n        vertical-align: middle;\n    }\n\n    .dataframe tbody tr th {\n        vertical-align: top;\n    }\n\n    .dataframe thead th {\n        text-align: right;\n    }\n</style>\n<table border=\"1\" class=\"dataframe\">\n  <thead>\n    <tr style=\"text-align: right;\">\n      <th></th>\n      <th>geo\\time</th>\n      <th>2022M03</th>\n      <th>2022M02</th>\n      <th>2022M01</th>\n      <th>2021M12</th>\n      <th>2021M11</th>\n      <th>2021M10</th>\n      <th>2021M09</th>\n      <th>2021M08</th>\n      <th>2021M07</th>\n      <th>...</th>\n      <th>1980M10</th>\n      <th>1980M09</th>\n      <th>1980M08</th>\n      <th>1980M07</th>\n      <th>1980M06</th>\n      <th>1980M05</th>\n      <th>1980M04</th>\n      <th>1980M03</th>\n      <th>1980M02</th>\n      <th>1980M01</th>\n    </tr>\n  </thead>\n  <tbody>\n    <tr>\n      <th>0</th>\n      <td>AL</td>\n      <td>-24.9</td>\n      <td>-15.6</td>\n      <td>-15.4</td>\n      <td>-17.2</td>\n      <td>-18.8</td>\n      <td>-19.4</td>\n      <td>-10.4</td>\n      <td>-13.0</td>\n      <td>-12.9</td>\n      <td>...</td>\n      <td>NaN</td>\n      <td>NaN</td>\n      <td>NaN</td>\n      <td>NaN</td>\n      <td>NaN</td>\n      <td>NaN</td>\n      <td>NaN</td>\n      <td>NaN</td>\n      <td>NaN</td>\n      <td>NaN</td>\n    </tr>\n    <tr>\n      <th>1</th>\n      <td>AT</td>\n      <td>-22.0</td>\n      <td>-7.3</td>\n      <td>-8.6</td>\n      <td>-10.5</td>\n      <td>-6.8</td>\n      <td>-2.8</td>\n      <td>-3.1</td>\n      <td>-0.3</td>\n      <td>0.2</td>\n      <td>...</td>\n      <td>NaN</td>\n      <td>NaN</td>\n      <td>NaN</td>\n      <td>NaN</td>\n      <td>NaN</td>\n      <td>NaN</td>\n      <td>NaN</td>\n      <td>NaN</td>\n      <td>NaN</td>\n      <td>NaN</td>\n    </tr>\n    <tr>\n      <th>2</th>\n      <td>BE</td>\n      <td>-21.8</td>\n      <td>-9.9</td>\n      <td>-9.4</td>\n      <td>-11.3</td>\n      <td>-10.1</td>\n      <td>-7.6</td>\n      <td>-1.2</td>\n      <td>-1.7</td>\n      <td>2.9</td>\n      <td>...</td>\n      <td>NaN</td>\n      <td>NaN</td>\n      <td>NaN</td>\n      <td>NaN</td>\n      <td>NaN</td>\n      <td>NaN</td>\n      <td>NaN</td>\n      <td>NaN</td>\n      <td>NaN</td>\n      <td>NaN</td>\n    </tr>\n    <tr>\n      <th>3</th>\n      <td>BG</td>\n      <td>-29.7</td>\n      <td>-20.6</td>\n      <td>-19.2</td>\n      <td>-21.3</td>\n      <td>-25.7</td>\n      <td>-24.9</td>\n      <td>-20.6</td>\n      <td>-19.1</td>\n      <td>-16.5</td>\n      <td>...</td>\n      <td>NaN</td>\n      <td>NaN</td>\n      <td>NaN</td>\n      <td>NaN</td>\n      <td>NaN</td>\n      <td>NaN</td>\n      <td>NaN</td>\n      <td>NaN</td>\n      <td>NaN</td>\n      <td>NaN</td>\n    </tr>\n    <tr>\n      <th>4</th>\n      <td>CY</td>\n      <td>-32.7</td>\n      <td>-19.2</td>\n      <td>-18.1</td>\n      <td>-21.8</td>\n      <td>-20.4</td>\n      <td>-19.6</td>\n      <td>-16.0</td>\n      <td>-20.5</td>\n      <td>-23.5</td>\n      <td>...</td>\n      <td>NaN</td>\n      <td>NaN</td>\n      <td>NaN</td>\n      <td>NaN</td>\n      <td>NaN</td>\n      <td>NaN</td>\n      <td>NaN</td>\n      <td>NaN</td>\n      <td>NaN</td>\n      <td>NaN</td>\n    </tr>\n  </tbody>\n</table>\n<p>5 rows × 508 columns</p>\n</div>"
     },
     "execution_count": 59,
     "metadata": {},
     "output_type": "execute_result"
    }
   ],
   "source": [
    "daten = eurostat.get_data_df(\"ei_bsco_m\")\n",
    "daten.drop(['unit', 's_adj', 'indic'], axis=1, inplace=True)\n",
    "#test = daten.eq('DE')\n",
    "#daten.loc[daten['geo\\\\time']].sum()\n",
    "daten.head(5)\n",
    "#daten['geo\\\\time'].value_counts().plot.pie(\n",
    "   # autopct='%1.1f%%',  # Label der einzelnen Abschnitte\n",
    "    #shadow=True,  # Schatteneffekt\n",
    "    #figsize=(10, 8))  # Größe des Graphen\n",
    "#plt.show()\n",
    "#daten['geo\\\\time'].value_counts()\n",
    "#print(daten.keys())\n"
   ],
   "metadata": {
    "collapsed": false,
    "pycharm": {
     "name": "#%%\n"
    }
   }
  },
  {
   "cell_type": "code",
   "execution_count": 59,
   "outputs": [],
   "source": [],
   "metadata": {
    "collapsed": false,
    "pycharm": {
     "name": "#%%\n"
    }
   }
  }
 ],
 "metadata": {
  "kernelspec": {
   "display_name": "Python 3",
   "language": "python",
   "name": "python3"
  },
  "language_info": {
   "codemirror_mode": {
    "name": "ipython",
    "version": 2
   },
   "file_extension": ".py",
   "mimetype": "text/x-python",
   "name": "python",
   "nbconvert_exporter": "python",
   "pygments_lexer": "ipython2",
   "version": "2.7.6"
  }
 },
 "nbformat": 4,
 "nbformat_minor": 0
}