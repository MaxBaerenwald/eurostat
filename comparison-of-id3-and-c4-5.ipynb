{
 "cells": [
  {
   "metadata": {
    "_uuid": "8f2839f25d086af736a60e9eeb907d3b93b6e0e5",
    "_cell_guid": "b1076dfc-b9ad-4769-8c92-a6c4dae69d19",
    "trusted": true,
    "scrolled": false
   },
   "cell_type": "code",
   "source": "# This Python 3 environment comes with many helpful analytics libraries installed\n# It is defined by the kaggle/python docker image: https://github.com/kaggle/docker-python\n# For example, here's several helpful packages to load in \n\n#Steven Schultz\n\nimport numpy as np # linear algebra\nimport pandas as pd # data processing, CSV file I/O (e.g. pd.read_csv)\nimport matplotlib.pyplot as plt\nimport sklearn\nfrom sklearn.model_selection import train_test_split\nfrom sklearn import tree\nfrom sklearn.metrics import confusion_matrix\nfrom sklearn.metrics import classification_report\nimport graphviz\n\n\n# Input data files are available in the \"../input/\" directory.\n# For example, running this (by clicking run or pressing Shift+Enter) will list the files in the input directory\n\nimport os\nprint(os.listdir(\"../input\"))\n\ndf = pd.read_csv(\"../input/diabetes.csv\")\ndf = df.drop('SkinThickness', 'columns')\ndf = df.dropna()\n\ndf = df[(df[['Glucose','BloodPressure','Insulin', 'BMI','DiabetesPedigreeFunction','Age']] != 0).all(axis=1)]\n\nsplit_data = train_test_split(df, test_size=.30)\n\ntrain_data = split_data[0]\ntest_data = split_data[1]\n\noutcome_train = train_data.Outcome.tolist()\noutcome_test = test_data.Outcome.tolist()\n\ntrain_data_remove = train_data.drop(columns = \"Outcome\")\ntest_data_remove = test_data.drop(columns = \"Outcome\")\n\n# ID3\nclf = sklearn.tree.DecisionTreeClassifier(criterion = \"entropy\")\nclf.fit(train_data_remove, outcome_train)\n\ndot_data = tree.export_graphviz(clf, out_file=None)\ngraph = graphviz.Source(dot_data)\ngraph.render(\"Diabetes\")\n\ngraph",
   "execution_count": 6,
   "outputs": [
    {
     "ename": "FileNotFoundError",
     "evalue": "[WinError 3] Das System kann den angegebenen Pfad nicht finden: '../input'",
     "output_type": "error",
     "traceback": [
      "\u001B[1;31m---------------------------------------------------------------------------\u001B[0m",
      "\u001B[1;31mFileNotFoundError\u001B[0m                         Traceback (most recent call last)",
      "Input \u001B[1;32mIn [6]\u001B[0m, in \u001B[0;36m<cell line: 22>\u001B[1;34m()\u001B[0m\n\u001B[0;32m     18\u001B[0m \u001B[38;5;66;03m# Input data files are available in the \"../input/\" directory.\u001B[39;00m\n\u001B[0;32m     19\u001B[0m \u001B[38;5;66;03m# For example, running this (by clicking run or pressing Shift+Enter) will list the files in the input directory\u001B[39;00m\n\u001B[0;32m     21\u001B[0m \u001B[38;5;28;01mimport\u001B[39;00m \u001B[38;5;21;01mos\u001B[39;00m\n\u001B[1;32m---> 22\u001B[0m \u001B[38;5;28mprint\u001B[39m(\u001B[43mos\u001B[49m\u001B[38;5;241;43m.\u001B[39;49m\u001B[43mlistdir\u001B[49m\u001B[43m(\u001B[49m\u001B[38;5;124;43m\"\u001B[39;49m\u001B[38;5;124;43m../input\u001B[39;49m\u001B[38;5;124;43m\"\u001B[39;49m\u001B[43m)\u001B[49m)\n\u001B[0;32m     24\u001B[0m df \u001B[38;5;241m=\u001B[39m pd\u001B[38;5;241m.\u001B[39mread_csv(\u001B[38;5;124m\"\u001B[39m\u001B[38;5;124m../input/diabetes.csv\u001B[39m\u001B[38;5;124m\"\u001B[39m)\n\u001B[0;32m     25\u001B[0m df \u001B[38;5;241m=\u001B[39m df\u001B[38;5;241m.\u001B[39mdrop(\u001B[38;5;124m'\u001B[39m\u001B[38;5;124mSkinThickness\u001B[39m\u001B[38;5;124m'\u001B[39m, \u001B[38;5;124m'\u001B[39m\u001B[38;5;124mcolumns\u001B[39m\u001B[38;5;124m'\u001B[39m)\n",
      "\u001B[1;31mFileNotFoundError\u001B[0m: [WinError 3] Das System kann den angegebenen Pfad nicht finden: '../input'"
     ]
    }
   ]
  },
  {
   "metadata": {
    "_cell_guid": "79c7e3d0-c299-4dcb-8224-4455121ee9b0",
    "_uuid": "d629ff2d2480ee46fbb7e2d37f6b5fab8052498a",
    "trusted": true,
    "scrolled": true
   },
   "cell_type": "code",
   "source": "test_array = clf.predict(test_data_remove).tolist()\nID3TestAccuracy = sklearn.metrics.accuracy_score(outcome_test, test_array)\n\nprint('ID3 Testing accuracy: ',ID3TestAccuracy)\n\n",
   "execution_count": null,
   "outputs": []
  },
  {
   "metadata": {
    "trusted": true,
    "_uuid": "9d3bd72bb6be40fa8ad2592b74146f2801c238d4"
   },
   "cell_type": "code",
   "source": "correlation = df.corr()\nfig = plt.figure()\nax = fig.add_subplot(111)\ncax = ax.matshow(correlation, vmin=-1, vmax=1)\nfig.colorbar(cax)\nticks = np.arange(0,9,1)\nax.set_xticks(ticks)\nax.set_yticks(ticks)\nplt.show()",
   "execution_count": null,
   "outputs": []
  },
  {
   "metadata": {
    "trusted": true,
    "scrolled": false,
    "_uuid": "11e22eaf64a5bac5ab75a323020d9d924e6fa036"
   },
   "cell_type": "code",
   "source": "train_array = clf.predict(train_data_remove).tolist()\nID3TrainAccuracy = sklearn.metrics.accuracy_score(outcome_train, train_array)\n\nprint('ID3 Training accuracy: ',ID3TrainAccuracy)",
   "execution_count": null,
   "outputs": []
  },
  {
   "metadata": {
    "trusted": true,
    "_uuid": "774cf7db8cf0f0c5a74a435cae1186a7705d33b4"
   },
   "cell_type": "code",
   "source": "# C4.5\nclf2 = sklearn.tree.DecisionTreeClassifier()\n\nclf2.fit(train_data_remove, outcome_train)\n\ndot_data = tree.export_graphviz(clf2, out_file=None)\ngraph = graphviz.Source(dot_data)\ngraph.render(\"Diabetes\")\n\ngraph",
   "execution_count": null,
   "outputs": []
  },
  {
   "metadata": {
    "trusted": true,
    "_uuid": "113114bcb16ca889eadcd9a19332b3dfdd04c971"
   },
   "cell_type": "code",
   "source": "test_array2 = clf2.predict(test_data_remove).tolist()\nCTestAccuracy = sklearn.metrics.accuracy_score(outcome_test, test_array2)\n\nprint('C4.5 Testing accuracy: ',CTestAccuracy)\n",
   "execution_count": null,
   "outputs": []
  },
  {
   "metadata": {
    "trusted": true,
    "_uuid": "82c5ca7cda5a854e8b0f596e7ab0a76371adff5a"
   },
   "cell_type": "code",
   "source": "train_array2 = clf2.predict(train_data_remove).tolist()\n\nCTrainAccuracy = sklearn.metrics.accuracy_score(outcome_train, train_array2)\n\nprint('C4.5 Training accuracy: ', CTrainAccuracy)",
   "execution_count": null,
   "outputs": []
  },
  {
   "metadata": {
    "trusted": true,
    "_uuid": "b10e51c291e6e584255ab9c936523414049f1a86"
   },
   "cell_type": "code",
   "source": "prediction_test = clf.predict(test_data_remove).tolist()\nprint(\"TESTING DATA\")\nprint('Confusion Matrix with Testing Data with ID3 Algorithm:')\nprint(confusion_matrix(outcome_test, prediction_test))\nprint()\nprint('Classification Report ID3 Algorithm:')\nprint(classification_report(outcome_test, prediction_test))\nprint()\nprint()\nprint(\"TRAINING DATA\")\nprediction_train = clf.predict(train_data_remove).tolist()\n\nprint('Confusion Matrix with Training Data with ID3 Algorithm:')\nprint(confusion_matrix(outcome_train, prediction_train))\nprint()\nprint('Classification Report ID3 Algorithm:')\nprint(classification_report(outcome_train, prediction_train))",
   "execution_count": null,
   "outputs": []
  },
  {
   "metadata": {
    "trusted": true,
    "_uuid": "e917fee58e19b255f29e2eadc7ec8e83d24c276b"
   },
   "cell_type": "code",
   "source": "prediction_train2 = clf2.predict(train_data_remove).tolist()\n\nprint(\"TESTING DATA\")\nprint('Confusion Matrix with Testing Data with C4.5 Algorithm: ')\nprint(confusion_matrix(outcome_train, prediction_train2))\nprint()\nprint('Classification Report C4.5 Algorithm:')\nprint(classification_report(outcome_train, prediction_train2))\nprint()\nprint()\nprint(\"TRAINING DATA\")\nprint('Confusion Matrix with Training Data with C4.5 Algorithm:')\nprint(confusion_matrix(outcome_train, prediction_train2))\nprint()\nprint('Classification Report C4.5 Algorithm:')\nprint(classification_report(outcome_train, prediction_train2))\n",
   "execution_count": null,
   "outputs": []
  }
 ],
 "metadata": {
  "kernelspec": {
   "display_name": "Python 3",
   "language": "python",
   "name": "python3"
  },
  "language_info": {
   "name": "python",
   "version": "3.6.6",
   "mimetype": "text/x-python",
   "codemirror_mode": {
    "name": "ipython",
    "version": 3
   },
   "pygments_lexer": "ipython3",
   "nbconvert_exporter": "python",
   "file_extension": ".py"
  }
 },
 "nbformat": 4,
 "nbformat_minor": 1
}